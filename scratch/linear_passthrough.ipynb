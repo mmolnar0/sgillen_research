{
 "cells": [
  {
   "cell_type": "code",
   "execution_count": 15,
   "metadata": {},
   "outputs": [],
   "source": [
    "# started here https://medium.com/@tomgrek/building-your-first-neural-net-from-scratch-with-pytorch-56b0e9c84d54\n",
    "\n",
    "import torch\n",
    "from torch.autograd import Variable\n",
    "import torch.nn as nn\n",
    "import torch.nn.functional as F\n",
    "import matplotlib.pyplot as plt \n",
    "import torch.optim as optim\n",
    "import numpy as np\n",
    "\n",
    "%matplotlib inline"
   ]
  },
  {
   "cell_type": "code",
   "execution_count": 107,
   "metadata": {},
   "outputs": [],
   "source": [
    "class Net(nn.Module):\n",
    "    def __init__(self):\n",
    "        super(Net, self).__init__()\n",
    "        self.fc1 = nn.Linear(1,1024)\n",
    "        self.fc2 = nn.Linear(1024,1)\n",
    "    def forward(self, x):\n",
    "        x = F.relu(self.fc2(F.relu(self.fc1(x))))\n",
    "        return x\n",
    "    \n",
    "net = Net()\n",
    "optimizer = optim.SGD(net.parameters(), lr=0.1, momentum=0.5)"
   ]
  },
  {
   "cell_type": "code",
   "execution_count": 79,
   "metadata": {},
   "outputs": [],
   "source": [
    "class LinearNet(nn.Module):\n",
    "    def __init__(self):\n",
    "        super(LinearNet, self).__init__()\n",
    "        self.fc1 = nn.Linear(1,1)\n",
    "        self.fc2 = nn.Linear(1,1)\n",
    "    def forward(self, x):\n",
    "        x = self.fc1(x)\n",
    "        return x\n",
    "    \n",
    "net = LinearNet()\n",
    "optimizer = optim.SGD(net.parameters(), lr=0.01, momentum=0.5)"
   ]
  },
  {
   "cell_type": "code",
   "execution_count": null,
   "metadata": {},
   "outputs": [],
   "source": [
    "class SkipNet(nn.Module):\n",
    "    def __init__(self):\n",
    "        super(SkipNet, self).__init__()\n",
    "        self.fc1 = nn.Linear(1,1024)\n",
    "        self.fc2 = nn.Linear(1024,1)\n",
    "        self.linear_gain = nn.Linear(1,1)\n",
    "    def forward(self, x):\n",
    "        x = F.relu(self.fc2(F.relu(self.fc1(x)))) + self.linear_gain(x) \n",
    "        return x\n",
    "    \n",
    "skipnet = SkipNet()\n",
    "skipoptimizer = optim.SGD(skipnet.parameters(), lr=0.01, momentum=0.5)"
   ]
  },
  {
   "cell_type": "code",
   "execution_count": 76,
   "metadata": {},
   "outputs": [],
   "source": [
    "def criterion(out, label):\n",
    "    return (label - out)**2 + torch.abs(net.fc1.weight.sum())/1024"
   ]
  },
  {
   "cell_type": "code",
   "execution_count": 11,
   "metadata": {},
   "outputs": [
    {
     "data": {
      "text/plain": [
       "tensor(24.3263, grad_fn=<SumBackward0>)"
      ]
     },
     "execution_count": 11,
     "metadata": {},
     "output_type": "execute_result"
    }
   ],
   "source": []
  },
  {
   "cell_type": "code",
   "execution_count": 96,
   "metadata": {},
   "outputs": [],
   "source": [
    "data = [(1,3), (2,6), (3,9), (4,12), (5,15), (6,18)]\n",
    "loss_hist = []\n",
    "weight_hist1 = []\n",
    "weight_hist2 = []"
   ]
  },
  {
   "cell_type": "code",
   "execution_count": 108,
   "metadata": {},
   "outputs": [],
   "source": [
    "weight_hist1.append(net.fc1.weight)\n",
    "for epoch in range(100):\n",
    "    for i, data2 in enumerate(data):\n",
    "        X, Y = iter(data2)\n",
    "        #X, Y = Variable(torch.FloatTensor([X]), requires_grad=True).cuda(), Variable(torch.FloatTensor([Y]), requires_grad=False).cuda()\n",
    "        X, Y = Variable(torch.FloatTensor([X]), requires_grad=True), Variable(torch.FloatTensor([Y]), requires_grad=False)\n",
    "\n",
    "        optimizer.zero_grad()\n",
    "        outputs = net(X)\n",
    "        loss = criterion(outputs, Y)\n",
    "        loss.backward()\n",
    "        optimizer.step()\n",
    "        \n",
    "        loss_hist.append(loss.data[0])\n",
    "        weight_hist1.append(net.fc1.weight)\n",
    "        #weight_hist2.append(net.fc2.weight)\n",
    "        #if (i % 10 == 0):\n",
    "            #print(\"Epoch {} - loss: {}\".format(epoch, loss.data[0]))"
   ]
  },
  {
   "cell_type": "code",
   "execution_count": 109,
   "metadata": {},
   "outputs": [
    {
     "data": {
      "text/plain": [
       "[<matplotlib.lines.Line2D at 0x11d532c88>]"
      ]
     },
     "execution_count": 109,
     "metadata": {},
     "output_type": "execute_result"
    },
    {
     "data": {
      "image/png": "[encoded data removed]",
      "text/plain": [
       "<matplotlib.figure.Figure at 0x11d3e2240>"
      ]
     },
     "metadata": {},
     "output_type": "display_data"
    }
   ],
   "source": [
    "%matplotlib inline\n",
    "plt.plot(loss_hist[1:30])"
   ]
  },
  {
   "cell_type": "code",
   "execution_count": 77,
   "metadata": {},
   "outputs": [],
   "source": [
    "# for the skip network\n",
    "skip_loss_hist = []\n",
    "skip_weight_hist1 = []\n",
    "skip_weight_hist2 = []\n",
    "\n",
    "for epoch in range(100):\n",
    "    for i, data2 in enumerate(data):\n",
    "        X, Y = iter(data2)\n",
    "        #X, Y = Variable(torch.FloatTensor([X]), requires_grad=True).cuda(), Variable(torch.FloatTensor([Y]), requires_grad=False).cuda()\n",
    "        X, Y = Variable(torch.FloatTensor([X]), requires_grad=True), Variable(torch.FloatTensor([Y]), requires_grad=False)\n",
    "\n",
    "        optimizer.zero_grad()\n",
    "        outputs = net(X)\n",
    "        loss = criterion(outputs, Y)\n",
    "        loss.backward()\n",
    "        optimizer.step()\n",
    "        \n",
    "        loss_hist.append(loss.data[0])\n",
    "        weight_hist1.append(net.fc1.weight)\n",
    "        weight_hist2.append(net.fc2.weight)\n",
    "        #if (i % 10 == 0):\n",
    "            #print(\"Epoch {} - loss: {}\".format(epoch, loss.data[0]))\n"
   ]
  },
  {
   "cell_type": "code",
   "execution_count": null,
   "metadata": {},
   "outputs": [],
   "source": [
    "plt.plot(skip_loss_hist)"
   ]
  },
  {
   "cell_type": "code",
   "execution_count": 106,
   "metadata": {},
   "outputs": [
    {
     "data": {
      "text/plain": [
       "Parameter containing:\n",
       "tensor([[ 0.0721],\n",
       "        [ 0.2712],\n",
       "        [-0.7783],\n",
       "        ...,\n",
       "        [-0.6290],\n",
       "        [ 0.0568],\n",
       "        [ 0.5849]], requires_grad=True)"
      ]
     },
     "execution_count": 106,
     "metadata": {},
     "output_type": "execute_result"
    }
   ],
   "source": [
    "weight_hist1[0]\n"
   ]
  },
  {
   "cell_type": "code",
   "execution_count": 48,
   "metadata": {},
   "outputs": [
    {
     "data": {
      "text/plain": [
       "Parameter containing:\n",
       "tensor([[ 0.2038],\n",
       "        [ 0.9240],\n",
       "        [-0.1357],\n",
       "        ...,\n",
       "        [ 0.2966],\n",
       "        [-0.9909],\n",
       "        [-0.3465]], requires_grad=True)"
      ]
     },
     "execution_count": 48,
     "metadata": {},
     "output_type": "execute_result"
    }
   ],
   "source": []
  },
  {
   "cell_type": "code",
   "execution_count": 35,
   "metadata": {},
   "outputs": [
    {
     "data": {
      "text/plain": [
       "[tensor(24582.4102),\n",
       " tensor(24617.1680),\n",
       " tensor(24664.8066),\n",
       " tensor(24727.8887),\n",
       " tensor(24807.6855),\n",
       " tensor(24472.8496),\n",
       " tensor(24479.6855),\n",
       " tensor(24504.3672),\n",
       " tensor(24546.9688),\n",
       " tensor(24607.5312),\n",
       " tensor(24686.0664),\n",
       " tensor(24350.5977),\n",
       " tensor(24357.1211),\n",
       " tensor(24381.6426),\n",
       " tensor(24424.1680),\n",
       " tensor(24484.6855),\n",
       " tensor(24563.2051),\n",
       " tensor(24227.7285),\n",
       " tensor(24234.2461),\n",
       " tensor(24258.7637),\n",
       " tensor(24301.2871),\n",
       " tensor(24361.8047),\n",
       " tensor(24440.3262),\n",
       " tensor(24104.8477),\n",
       " tensor(24111.3633),\n",
       " tensor(24135.8848),\n",
       " tensor(24178.4062),\n",
       " tensor(24238.9238),\n",
       " tensor(24317.4414),\n",
       " tensor(23981.9609),\n",
       " tensor(23988.4844),\n",
       " tensor(24013.),\n",
       " tensor(24055.5176),\n",
       " tensor(24116.0410),\n",
       " tensor(24194.5586),\n",
       " tensor(23859.0762),\n",
       " tensor(23865.5996),\n",
       " tensor(23890.1172),\n",
       " tensor(23932.6367),\n",
       " tensor(23993.1582),\n",
       " tensor(24071.6758),\n",
       " tensor(23736.1992),\n",
       " tensor(23742.7129),\n",
       " tensor(23767.2363),\n",
       " tensor(23809.7578),\n",
       " tensor(23870.2715),\n",
       " tensor(23948.7969),\n",
       " tensor(23613.3105),\n",
       " tensor(23619.8301),\n",
       " tensor(23644.3535),\n",
       " tensor(23686.8711),\n",
       " tensor(23747.3887),\n",
       " tensor(23825.9121),\n",
       " tensor(23490.4297),\n",
       " tensor(23496.9492),\n",
       " tensor(23521.4707),\n",
       " tensor(23563.9883),\n",
       " tensor(23624.5117),\n",
       " tensor(23703.0312),\n",
       " tensor(23367.5488),\n",
       " tensor(23374.0703),\n",
       " tensor(23398.5859),\n",
       " tensor(23441.1094),\n",
       " tensor(23501.6250),\n",
       " tensor(23580.1426),\n",
       " tensor(23244.6680),\n",
       " tensor(23251.1836),\n",
       " tensor(23275.7012),\n",
       " tensor(23318.2246),\n",
       " tensor(23378.7422),\n",
       " tensor(23457.2617),\n",
       " tensor(23121.7832),\n",
       " tensor(23128.3008),\n",
       " tensor(23152.8242),\n",
       " tensor(23195.3379),\n",
       " tensor(23255.8613),\n",
       " tensor(23334.3828),\n",
       " tensor(22998.8965),\n",
       " tensor(23005.4219),\n",
       " tensor(23029.9355),\n",
       " tensor(23072.4551),\n",
       " tensor(23132.9805),\n",
       " tensor(23211.4961),\n",
       " tensor(22876.0137),\n",
       " tensor(22882.5371),\n",
       " tensor(22907.0527),\n",
       " tensor(22949.5742),\n",
       " tensor(23010.0938),\n",
       " tensor(23088.6133),\n",
       " tensor(22753.1367),\n",
       " tensor(22759.6523),\n",
       " tensor(22784.1738),\n",
       " tensor(22826.6953),\n",
       " tensor(22887.2090),\n",
       " tensor(22965.7344),\n",
       " tensor(22630.2500),\n",
       " tensor(22636.7695),\n",
       " tensor(22661.2930),\n",
       " tensor(22703.8086)]"
      ]
     },
     "execution_count": 35,
     "metadata": {},
     "output_type": "execute_result"
    }
   ],
   "source": [
    "loss_hist[1:100]"
   ]
  },
  {
   "cell_type": "code",
   "execution_count": 46,
   "metadata": {},
   "outputs": [
    {
     "data": {
      "text/plain": [
       "Net(\n",
       "  (fc1): Linear(in_features=1, out_features=1024, bias=True)\n",
       "  (fc2): Linear(in_features=1024, out_features=1, bias=True)\n",
       ")"
      ]
     },
     "execution_count": 46,
     "metadata": {},
     "output_type": "execute_result"
    }
   ],
   "source": [
    "net"
   ]
  },
  {
   "cell_type": "code",
   "execution_count": null,
   "metadata": {},
   "outputs": [],
   "source": []
  }
 ],
 "metadata": {
  "kernelspec": {
   "display_name": "Python [conda env:anaconda3]",
   "language": "python",
   "name": "conda-env-anaconda3-py"
  },
  "language_info": {
   "codemirror_mode": {
    "name": "ipython",
    "version": 3
   },
   "file_extension": ".py",
   "mimetype": "text/x-python",
   "name": "python",
   "nbconvert_exporter": "python",
   "pygments_lexer": "ipython3",
   "version": "3.6.3"
  }
 },
 "nbformat": 4,
 "nbformat_minor": 2
}
