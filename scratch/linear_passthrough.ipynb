{
 "cells": [
  {
   "cell_type": "code",
   "execution_count": 1,
   "metadata": {},
   "outputs": [
    {
     "name": "stdout",
     "output_type": "stream",
     "text": [
      "Using matplotlib backend: MacOSX\n"
     ]
    }
   ],
   "source": [
    "# started here https://medium.com/@tomgrek/building-your-first-neural-net-from-scratch-with-pytorch-56b0e9c84d54\n",
    "\n",
    "import torch\n",
    "from torch.autograd import Variable\n",
    "import torch.nn as nn\n",
    "import torch.nn.functional as F\n",
    "import matplotlib.pyplot as plt \n",
    "import torch.optim as optim\n",
    "import numpy as np\n",
    "import copy\n",
    "\n",
    "%matplotlib"
   ]
  },
  {
   "cell_type": "code",
   "execution_count": 2,
   "metadata": {},
   "outputs": [],
   "source": [
    "class Net(nn.Module):\n",
    "    def __init__(self):\n",
    "        super(Net, self).__init__()\n",
    "        self.fc1 = nn.Linear(1,64)\n",
    "        self.fc2 = nn.Linear(64,1)\n",
    "    def forward(self, x):\n",
    "        x = F.relu(self.fc2(F.relu(self.fc1(x))))\n",
    "        return x\n",
    "    \n",
    "net = Net()\n",
    "#optimizer = optim.SGD(net.parameters(), lr=0.0001, momentum = .05)\n",
    "optimizer = optim.Adam(net.parameters(), lr=0.01)\n",
    "\n"
   ]
  },
  {
   "cell_type": "code",
   "execution_count": 3,
   "metadata": {},
   "outputs": [],
   "source": [
    "class SkipNet(nn.Module):\n",
    "    def __init__(self):\n",
    "        super(SkipNet, self).__init__()\n",
    "        self.fc1 = nn.Linear(1,64)\n",
    "        self.fc2 = nn.Linear(64,1)\n",
    "        self.linear_gain = nn.Linear(1,1)\n",
    "    def forward(self, x):\n",
    "        x = F.relu(self.fc2(F.relu(self.fc1(x)))) + self.linear_gain(x) \n",
    "        return x\n",
    "    \n",
    "skipnet = SkipNet()\n",
    "#skipoptimizer = optim.SGD(net.parameters(), lr=0.01, momentum = .05)\n",
    "skipoptimizer = optim.Adam(skipnet.parameters(), lr=0.01)"
   ]
  },
  {
   "cell_type": "code",
   "execution_count": 4,
   "metadata": {},
   "outputs": [],
   "source": [
    "def criterion(out, label):\n",
    "    return (label - out)**2\n",
    "\n",
    "def skipcriterion(out, label):\n",
    "    return (label - out)**2 + (torch.abs(net.fc1.weight).sum() + torch.abs(net.fc2.weight).sum()) / 2048\n",
    "\n",
    "#data = [(1,3), (2,6), (3,9), (4,12), (5,15), (6,18)]\n",
    "\n",
    "num_points = 100\n",
    "input_data = [x for x in range(0,num_points)]\n",
    "linear_data = [(3*x) for x in range(0,num_points)]\n",
    "#plt.plot(input_data, linear_data)\n",
    "\n",
    "\n",
    "\n",
    "# small experiment I ran to add a quadratic disturbance to some linear data, to see if our network can handle that\n",
    "quad_points = 25\n",
    "scaling_factor = .15\n",
    "quad = [-scaling_factor*(x - quad_points/2)**2 + scaling_factor*(quad_points/2)**2 for x in range(0,quad_points)]\n",
    "\n",
    "output_data = copy.deepcopy(linear_data)\n",
    "\n",
    "\n",
    "start_point = 30\n",
    "for i in range(0, quad_points):\n",
    "    output_data[i + start_point] = linear_data[i + start_point] + quad[i]\n",
    "\n",
    "#plt.plot(quad)\n",
    "#plt.plot(output_data)\n",
    "\n"
   ]
  },
  {
   "cell_type": "code",
   "execution_count": 5,
   "metadata": {},
   "outputs": [],
   "source": [
    "loss_hist = []\n",
    "weight_hist1 = []\n",
    "weight_hist2 = []\n",
    "\n",
    "#import pdb; pdb.set_trace()\n",
    "\n",
    "weight_hist1.append(net.fc1.weight.clone())\n",
    "for epoch in range(100):\n",
    "    total_loss = 0\n",
    "    \n",
    "    for i, data2 in enumerate(zip(input_data, output_data)):\n",
    "        \n",
    "        \n",
    "        X, Y = iter(data2)\n",
    "        #X, Y = Variable(torch.FloatTensor([X]), requires_grad=True).cuda(), Variable(torch.FloatTensor([Y]), requires_grad=False).cuda()\n",
    "        X, Y = Variable(torch.FloatTensor([X]), requires_grad=True), Variable(torch.FloatTensor([Y]), requires_grad=False)\n",
    "\n",
    "        optimizer.zero_grad()\n",
    "        outputs = net(X)\n",
    "        loss = criterion(outputs, Y)\n",
    "        loss.backward()\n",
    "        optimizer.step()\n",
    "        \n",
    "        total_loss += loss\n",
    "        \n",
    "    loss_hist.append(total_loss/len(input_data))\n",
    "    weight_hist1.append(net.fc1.weight.clone())\n",
    "    weight_hist2.append(net.fc2.weight.clone())\n",
    "       "
   ]
  },
  {
   "cell_type": "code",
   "execution_count": 6,
   "metadata": {},
   "outputs": [
    {
     "data": {
      "text/plain": [
       "Text(0.5,1,'output')"
      ]
     },
     "execution_count": 6,
     "metadata": {},
     "output_type": "execute_result"
    },
    {
     "data": {
      "image/png": "[encoded data removed]",
      "text/plain": [
       "<matplotlib.figure.Figure at 0x113ac9e80>"
      ]
     },
     "metadata": {},
     "output_type": "display_data"
    },
    {
     "data": {
      "image/png": "[encoded data removed]",
      "text/plain": [
       "<matplotlib.figure.Figure at 0x1170e6208>"
      ]
     },
     "metadata": {},
     "output_type": "display_data"
    }
   ],
   "source": [
    "%matplotlib inline\n",
    "plt.plot(loss_hist, 'x-')\n",
    "plt.title(\"loss\")\n",
    "plt.figure()\n",
    "\n",
    "#torch.all(torch.eq(weight_hist1[0], weight_hist1[121]))\n",
    "\n",
    "test = net(torch.FloatTensor([1]))\n",
    "test.data\n",
    "\n",
    "output = []\n",
    "for data in input_data:\n",
    "    output.append(net(torch.FloatTensor([data]).data))\n",
    "\n",
    "plt.plot(output)\n",
    "plt.title(\"output\")"
   ]
  },
  {
   "cell_type": "code",
   "execution_count": 7,
   "metadata": {},
   "outputs": [],
   "source": [
    "# for the skip network\n",
    "skip_loss_hist = []\n",
    "skip_weight_hist1 = []\n",
    "skip_weight_hist2 = []\n",
    "skip_weight_pass_hist = []\n",
    "\n",
    "\n",
    "for epoch in range(100):\n",
    "    total_loss = 0\n",
    "\n",
    "    for i, data2 in enumerate(zip(input_data, output_data)):\n",
    "        X, Y = iter(data2)\n",
    "        #X, Y = Variable(torch.FloatTensor([X]), requires_grad=True).cuda(), Variable(torch.FloatTensor([Y]), requires_grad=False).cuda()\n",
    "        X, Y = Variable(torch.FloatTensor([X]), requires_grad=True), Variable(torch.FloatTensor([Y]), requires_grad=False)\n",
    "\n",
    "        skipoptimizer.zero_grad()\n",
    "        outputs = skipnet(X)\n",
    "        loss = skipcriterion(outputs, Y)\n",
    "        loss.backward()\n",
    "        skipoptimizer.step()\n",
    "        total_loss += loss\n",
    "        \n",
    "    skip_loss_hist.append(total_loss/len(input_data))\n",
    "    skip_weight_hist1.append(skipnet.fc1.weight.clone())\n",
    "    skip_weight_hist2.append(skipnet.fc2.weight.clone())\n",
    "    skip_weight_pass_hist.append(skipnet.linear_gain.weight.clone())"
   ]
  },
  {
   "cell_type": "code",
   "execution_count": 8,
   "metadata": {},
   "outputs": [
    {
     "data": {
      "text/plain": [
       "Text(0.5,1,'output')"
      ]
     },
     "execution_count": 8,
     "metadata": {},
     "output_type": "execute_result"
    },
    {
     "data": {
      "image/png": "[encoded data removed]",
      "text/plain": [
       "<matplotlib.figure.Figure at 0x11706b780>"
      ]
     },
     "metadata": {},
     "output_type": "display_data"
    },
    {
     "data": {
      "image/png": "[encoded data removed]",
      "text/plain": [
       "<matplotlib.figure.Figure at 0x1170e61d0>"
      ]
     },
     "metadata": {},
     "output_type": "display_data"
    }
   ],
   "source": [
    "plt.plot(skip_loss_hist, 'x-')\n",
    "plt.title(\"loss\")\n",
    "plt.figure()\n",
    "\n",
    "\n",
    "output = []\n",
    "for data in input_data:\n",
    "    output.append(skipnet(torch.FloatTensor([data]).data))\n",
    "\n",
    "plt.plot(output)\n",
    "plt.title(\"output\")\n",
    "#print(skip_weight_hist1[0])\n",
    "#print(skip_weight_hist1[100])"
   ]
  },
  {
   "cell_type": "code",
   "execution_count": null,
   "metadata": {},
   "outputs": [],
   "source": [
    "loss_hist[1:100]"
   ]
  },
  {
   "cell_type": "code",
   "execution_count": null,
   "metadata": {},
   "outputs": [],
   "source": [
    "class LinearNet(nn.Module):\n",
    "    def __init__(self):\n",
    "        super(LinearNet, self).__init__()\n",
    "        self.fc1 = nn.Linear(1,1)\n",
    "        self.fc2 = nn.Linear(1,1)\n",
    "    def forward(self, x):\n",
    "        x = self.fc1(x)\n",
    "        return x\n",
    "    \n",
    "net = LinearNet()\n",
    "optimizer = optim.SGD(net.parameters(), lr=0.01, momentum=0.5)"
   ]
  }
 ],
 "metadata": {
  "kernelspec": {
   "display_name": "Python [conda env:anaconda3]",
   "language": "python",
   "name": "conda-env-anaconda3-py"
  },
  "language_info": {
   "codemirror_mode": {
    "name": "ipython",
    "version": 3
   },
   "file_extension": ".py",
   "mimetype": "text/x-python",
   "name": "python",
   "nbconvert_exporter": "python",
   "pygments_lexer": "ipython3",
   "version": "3.6.3"
  }
 },
 "nbformat": 4,
 "nbformat_minor": 2
}
