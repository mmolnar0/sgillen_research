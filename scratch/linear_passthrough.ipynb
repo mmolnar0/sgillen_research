{
 "cells": [
  {
   "cell_type": "code",
   "execution_count": 120,
   "metadata": {},
   "outputs": [],
   "source": [
    "# started here https://medium.com/@tomgrek/building-your-first-neural-net-from-scratch-with-pytorch-56b0e9c84d54\n",
    "\n",
    "import torch\n",
    "from torch.autograd import Variable\n",
    "import torch.nn as nn\n",
    "import torch.nn.functional as F\n",
    "import matplotlib.pyplot as plt \n",
    "import torch.optim as optim\n",
    "import numpy as np\n",
    "import copy\n",
    "\n",
    "%matplotlib inline"
   ]
  },
  {
   "cell_type": "code",
   "execution_count": 18,
   "metadata": {},
   "outputs": [],
   "source": [
    "class Net(nn.Module):\n",
    "    def __init__(self):\n",
    "        super(Net, self).__init__()\n",
    "        self.fc1 = nn.Linear(1,1024)\n",
    "        self.fc2 = nn.Linear(1024,1)\n",
    "    def forward(self, x):\n",
    "        x = F.relu(self.fc2(F.relu(self.fc1(x))))\n",
    "        return x\n",
    "    \n",
    "net = Net()\n",
    "optimizer = optim.SGD(net.parameters(), lr=0.01, momentum=0.5)"
   ]
  },
  {
   "cell_type": "code",
   "execution_count": 3,
   "metadata": {},
   "outputs": [],
   "source": [
    "class SkipNet(nn.Module):\n",
    "    def __init__(self):\n",
    "        super(SkipNet, self).__init__()\n",
    "        self.fc1 = nn.Linear(1,1024)\n",
    "        self.fc2 = nn.Linear(1024,1)\n",
    "        self.linear_gain = nn.Linear(1,1)\n",
    "    def forward(self, x):\n",
    "        x = F.relu(self.fc2(F.relu(self.fc1(x)))) + self.linear_gain(x) \n",
    "        return x\n",
    "    \n",
    "skipnet = SkipNet()\n",
    "skipoptimizer = optim.SGD(skipnet.parameters(), lr=0.01, momentum=0.5)"
   ]
  },
  {
   "cell_type": "code",
   "execution_count": 159,
   "metadata": {},
   "outputs": [
    {
     "name": "stdout",
     "output_type": "stream",
     "text": [
      "0 0\n",
      "1 3\n",
      "2 6\n",
      "3 9\n",
      "4 12\n",
      "5 15\n",
      "6 18\n",
      "7 21\n",
      "8 24\n",
      "9 27\n",
      "10 30\n",
      "11 33\n",
      "12 36\n",
      "13 39\n",
      "14 42\n",
      "15 45\n",
      "16 48\n",
      "17 51\n",
      "18 54\n",
      "19 57\n",
      "20 60\n",
      "21 63\n",
      "22 66\n",
      "23 69\n",
      "24 72\n",
      "25 75\n",
      "26 78\n",
      "27 81\n",
      "28 84\n",
      "29 87\n",
      "30 90.0\n",
      "31 96.6\n",
      "32 102.9\n",
      "33 108.9\n",
      "34 114.6\n",
      "35 120.0\n",
      "36 125.1\n",
      "37 129.9\n",
      "38 134.4\n",
      "39 138.6\n",
      "40 142.5\n",
      "41 146.1\n",
      "42 149.4\n",
      "43 152.4\n",
      "44 155.1\n",
      "45 157.5\n",
      "46 159.6\n",
      "47 161.4\n",
      "48 162.9\n",
      "49 164.1\n",
      "50 165.0\n",
      "51 165.6\n",
      "52 165.9\n",
      "53 165.9\n",
      "54 165.6\n",
      "55 165\n",
      "56 168\n",
      "57 171\n",
      "58 174\n",
      "59 177\n",
      "60 180\n",
      "61 183\n",
      "62 186\n",
      "63 189\n",
      "64 192\n",
      "65 195\n",
      "66 198\n",
      "67 201\n",
      "68 204\n",
      "69 207\n",
      "70 210\n",
      "71 213\n",
      "72 216\n",
      "73 219\n",
      "74 222\n",
      "75 225\n",
      "76 228\n",
      "77 231\n",
      "78 234\n",
      "79 237\n",
      "80 240\n",
      "81 243\n",
      "82 246\n",
      "83 249\n",
      "84 252\n",
      "85 255\n",
      "86 258\n",
      "87 261\n",
      "88 264\n",
      "89 267\n",
      "90 270\n",
      "91 273\n",
      "92 276\n",
      "93 279\n",
      "94 282\n",
      "95 285\n",
      "96 288\n",
      "97 291\n",
      "98 294\n",
      "99 297\n"
     ]
    }
   ],
   "source": [
    "def criterion(out, label):\n",
    "    return (label - out)**2\n",
    "\n",
    "def skipcriterion(out, label):\n",
    "    return (label - out)**2 + (torch.abs(net.fc1.weight).sum() + torch.abs(net.fc2.weight).sum()) / 2048\n",
    "\n",
    "#data = [(1,3), (2,6), (3,9), (4,12), (5,15), (6,18)]\n",
    "\n",
    "num_points = 100\n",
    "input_data = [x for x in range(0,num_points)]\n",
    "linear_data = [(3*x) for x in range(0,num_points)]\n",
    "#plt.plot(input_data, linear_data)\n",
    "\n",
    "\n",
    "\n",
    "# small experiment I ran to add a quadratic disturbance to some linear data, to see if our network can handle that\n",
    "quad_points = 25\n",
    "scaling_factor = .15\n",
    "quad = [-scaling_factor*(x - quad_points/2)**2 + scaling_factor*(quad_points/2)**2 for x in range(0,quad_points)]\n",
    "\n",
    "output_data = copy.deepcopy(linear_data)\n",
    "\n",
    "\n",
    "start_point = 30\n",
    "for i in range(0, quad_points):\n",
    "    output_data[i + start_point] = linear_data[i + start_point] + quad[i]\n",
    "\n",
    "#plt.plot(quad)\n",
    "#plt.plot(output_data)\n",
    "\n",
    "for f,b in zip(input_data,output_data):\n",
    "    print(f,b)"
   ]
  },
  {
   "cell_type": "code",
   "execution_count": 127,
   "metadata": {},
   "outputs": [],
   "source": [
    "loss_hist = []\n",
    "weight_hist1 = []\n",
    "weight_hist2 = []\n",
    "\n",
    "weight_hist1.append(net.fc1.weight.clone())\n",
    "for epoch in range(100):\n",
    "    for i, data2 in enumerate(zip(input_data, output_data)):\n",
    "        X, Y = iter(data2)\n",
    "        #X, Y = Variable(torch.FloatTensor([X]), requires_grad=True).cuda(), Variable(torch.FloatTensor([Y]), requires_grad=False).cuda()\n",
    "        X, Y = Variable(torch.FloatTensor([X]), requires_grad=True), Variable(torch.FloatTensor([Y]), requires_grad=False)\n",
    "\n",
    "        optimizer.zero_grad()\n",
    "        outputs = net(X)\n",
    "        loss = criterion(outputs, Y)\n",
    "        loss.backward()\n",
    "        optimizer.step()\n",
    "        \n",
    "        loss_hist.append(loss.data[0])\n",
    "        weight_hist1.append(net.fc1.weight.clone())\n",
    "        weight_hist2.append(net.fc2.weight.clone())\n",
    "        #weight_hist2.append(net.fc2.weight)\n",
    "        #if (i % 10 == 0):\n",
    "            #print(\"Epoch {} - loss: {}\".format(epoch, loss.data[0]))"
   ]
  },
  {
   "cell_type": "code",
   "execution_count": 157,
   "metadata": {},
   "outputs": [
    {
     "data": {
      "text/plain": [
       "[<matplotlib.lines.Line2D at 0x1191f5748>]"
      ]
     },
     "execution_count": 157,
     "metadata": {},
     "output_type": "execute_result"
    },
    {
     "data": {
      "image/png": "[encoded data removed]",
      "text/plain": [
       "<matplotlib.figure.Figure at 0x11949aa58>"
      ]
     },
     "metadata": {},
     "output_type": "display_data"
    }
   ],
   "source": [
    "%matplotlib inline\n",
    "#plt.plot(loss_hist[1:100], 'x-')\n",
    "torch.all(torch.eq(weight_hist1[0], weight_hist1[121]))\n",
    "\n",
    "test = net(torch.FloatTensor([1]))\n",
    "test.data\n",
    "\n",
    "output = []\n",
    "for data in input_data:\n",
    "    output.append(net(torch.FloatTensor([data]).data))\n",
    "    \n",
    "plt.plot(output)"
   ]
  },
  {
   "cell_type": "code",
   "execution_count": 9,
   "metadata": {},
   "outputs": [],
   "source": [
    "# for the skip network\n",
    "skip_loss_hist = []\n",
    "skip_weight_hist1 = []\n",
    "skip_weight_hist2 = []\n",
    "skip_weight_pass_hist = []\n",
    "\n",
    "\n",
    "for epoch in range(100):\n",
    "    for i, data2 in enumerate(data):\n",
    "        X, Y = iter(data2)\n",
    "        #X, Y = Variable(torch.FloatTensor([X]), requires_grad=True).cuda(), Variable(torch.FloatTensor([Y]), requires_grad=False).cuda()\n",
    "        X, Y = Variable(torch.FloatTensor([X]), requires_grad=True), Variable(torch.FloatTensor([Y]), requires_grad=False)\n",
    "\n",
    "        skipoptimizer.zero_grad()\n",
    "        outputs = skipnet(X)\n",
    "        loss = skipcriterion(outputs, Y)\n",
    "        loss.backward()\n",
    "        skipoptimizer.step()\n",
    "        \n",
    "        skip_loss_hist.append(loss.data[0])\n",
    "        skip_weight_hist1.append(skipnet.fc1.weight.clone())\n",
    "        skip_weight_hist2.append(skipnet.fc2.weight.clone())\n",
    "        skip_weight_pass_hist.append(skipnet.linear_gain.weight.clone())\n",
    "        #if (i % 10 == 0):\n",
    "            #print(\"Epoch {} - loss: {}\".format(epoch, loss.data[0]))\n"
   ]
  },
  {
   "cell_type": "code",
   "execution_count": 11,
   "metadata": {},
   "outputs": [
    {
     "name": "stdout",
     "output_type": "stream",
     "text": [
      "tensor([[-0.0957],\n",
      "        [ 0.3510],\n",
      "        [ 0.0037],\n",
      "        ...,\n",
      "        [ 0.6751],\n",
      "        [ 0.2107],\n",
      "        [-0.3846]], grad_fn=<CloneBackward>)\n",
      "tensor([[-0.0957],\n",
      "        [ 0.3321],\n",
      "        [ 0.0037],\n",
      "        ...,\n",
      "        [ 0.5661],\n",
      "        [ 0.0823],\n",
      "        [-0.3846]], grad_fn=<CloneBackward>)\n"
     ]
    },
    {
     "data": {
      "image/png": "[encoded data removed]",
      "text/plain": [
       "<matplotlib.figure.Figure at 0x1174e79e8>"
      ]
     },
     "metadata": {},
     "output_type": "display_data"
    }
   ],
   "source": [
    "plt.plot(skip_loss_hist, 'x-')\n",
    "print(skip_weight_hist1[0])\n",
    "print(skip_weight_hist1[100])"
   ]
  },
  {
   "cell_type": "code",
   "execution_count": 20,
   "metadata": {},
   "outputs": [
    {
     "name": "stdout",
     "output_type": "stream",
     "text": [
      "tensor([[ 0.2229],\n",
      "        [-0.1012],\n",
      "        [ 0.4080],\n",
      "        ...,\n",
      "        [-0.3324],\n",
      "        [-0.5695],\n",
      "        [ 0.6571]], requires_grad=True)\n",
      "tensor([[ 0.2229],\n",
      "        [-0.1012],\n",
      "        [ 0.4080],\n",
      "        ...,\n",
      "        [-0.3324],\n",
      "        [-0.5695],\n",
      "        [ 0.6571]], requires_grad=True)\n",
      "tensor([[2.9554]], requires_grad=True)\n"
     ]
    }
   ],
   "source": [
    "import copy\n",
    "\n",
    "print(skip_weight_hist1[1])\n",
    "print(skip_weight_hist1[100])\n",
    "print(skip_weight_pass_hist[100])"
   ]
  },
  {
   "cell_type": "code",
   "execution_count": 22,
   "metadata": {},
   "outputs": [
    {
     "data": {
      "text/plain": [
       "tensor([15.0003], grad_fn=<ThAddBackward>)"
      ]
     },
     "execution_count": 22,
     "metadata": {},
     "output_type": "execute_result"
    }
   ],
   "source": [
    "skipnet(torch.FloatTensor([5]))"
   ]
  },
  {
   "cell_type": "code",
   "execution_count": null,
   "metadata": {},
   "outputs": [],
   "source": [
    "loss_hist[1:100]"
   ]
  },
  {
   "cell_type": "code",
   "execution_count": null,
   "metadata": {},
   "outputs": [],
   "source": [
    "net"
   ]
  },
  {
   "cell_type": "code",
   "execution_count": null,
   "metadata": {},
   "outputs": [],
   "source": [
    "class LinearNet(nn.Module):\n",
    "    def __init__(self):\n",
    "        super(LinearNet, self).__init__()\n",
    "        self.fc1 = nn.Linear(1,1)\n",
    "        self.fc2 = nn.Linear(1,1)\n",
    "    def forward(self, x):\n",
    "        x = self.fc1(x)\n",
    "        return x\n",
    "    \n",
    "net = LinearNet()\n",
    "optimizer = optim.SGD(net.parameters(), lr=0.01, momentum=0.5)"
   ]
  },
  {
   "cell_type": "code",
   "execution_count": null,
   "metadata": {},
   "outputs": [],
   "source": []
  }
 ],
 "metadata": {
  "kernelspec": {
   "display_name": "Python [conda env:anaconda3]",
   "language": "python",
   "name": "conda-env-anaconda3-py"
  },
  "language_info": {
   "codemirror_mode": {
    "name": "ipython",
    "version": 3
   },
   "file_extension": ".py",
   "mimetype": "text/x-python",
   "name": "python",
   "nbconvert_exporter": "python",
   "pygments_lexer": "ipython3",
   "version": "3.6.3"
  }
 },
 "nbformat": 4,
 "nbformat_minor": 2
}
