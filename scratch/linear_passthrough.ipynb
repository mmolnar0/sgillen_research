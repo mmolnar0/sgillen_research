{
 "cells": [
  {
   "cell_type": "code",
   "execution_count": 1,
   "metadata": {},
   "outputs": [],
   "source": [
    "# started here https://medium.com/@tomgrek/building-your-first-neural-net-from-scratch-with-pytorch-56b0e9c84d54\n",
    "\n",
    "import torch\n",
    "from torch.autograd import Variable\n",
    "import torch.nn as nn\n",
    "import torch.nn.functional as F\n",
    "import matplotlib.pyplot as plt \n",
    "import torch.optim as optim\n",
    "\n",
    "%matplotlib inline\n"
   ]
  },
  {
   "cell_type": "code",
   "execution_count": 8,
   "metadata": {},
   "outputs": [],
   "source": [
    "class Net(nn.Module):\n",
    "    def __init__(self):\n",
    "        super(Net, self).__init__()\n",
    "        self.fc1 = nn.Linear(1,1)\n",
    "        self.fc2 = nn.Linear(1,1)\n",
    "    def forward(self, x):\n",
    "        x = F.relu(self.fc2(F.relu(self.fc1(x))))\n",
    "        return x"
   ]
  },
  {
   "cell_type": "code",
   "execution_count": null,
   "metadata": {},
   "outputs": [],
   "source": [
    "class SkipNet(nn.Module):\n",
    "    def __init__(self):\n",
    "        super(SkipNet, self).__init__()\n",
    "        self.fc1 = nn.Linear(1,1024)\n",
    "        self.fc2 = nn.Linear(1024,1)\n",
    "        self.linear_gain = nn.Linear(1,1)\n",
    "    def forward(self, x):\n",
    "        x = F.relu(self.fc2(F.relu(self.fc1(x)))) + self.linear_gain(x) \n",
    "        return x"
   ]
  },
  {
   "cell_type": "code",
   "execution_count": 9,
   "metadata": {},
   "outputs": [
    {
     "name": "stdout",
     "output_type": "stream",
     "text": [
      "[Parameter containing:\n",
      "tensor([[-0.5292]], requires_grad=True), Parameter containing:\n",
      "tensor([0.4254], requires_grad=True), Parameter containing:\n",
      "tensor([[-0.0370]], requires_grad=True), Parameter containing:\n",
      "tensor([-0.4664], requires_grad=True)]\n"
     ]
    }
   ],
   "source": [
    "#net = Net().cuda()\n",
    "net = Net()\n",
    "#skipnet = SkipNet()\n",
    "print(list(net.parameters()))"
   ]
  },
  {
   "cell_type": "code",
   "execution_count": 10,
   "metadata": {},
   "outputs": [
    {
     "name": "stdout",
     "output_type": "stream",
     "text": [
      "tensor([[[0.1181]]], requires_grad=True)\n",
      "tensor([[[0.]]], grad_fn=<ReluBackward>)\n"
     ]
    }
   ],
   "source": [
    "input = Variable(torch.randn(1,1,1), requires_grad=True)\n",
    "print(input)\n",
    "out = net(input)\n",
    "print(out)\n"
   ]
  },
  {
   "cell_type": "code",
   "execution_count": 16,
   "metadata": {},
   "outputs": [],
   "source": [
    "def criterion(out, label):\n",
    "    return (label - out)**2\n",
    "\n",
    "\n",
    "criterion = nn.MSELoss()\n",
    "\n",
    "optimizer = optim.SGD(net.parameters(), lr=0.01, momentum=0.5)\n",
    "#skipoptimizer = optim.SGD(skipnet.parameters(), lr=0.01, momentum=0.5)"
   ]
  },
  {
   "cell_type": "code",
   "execution_count": 22,
   "metadata": {},
   "outputs": [],
   "source": [
    "data = [(1,3), (2,6), (3,9), (4,12), (5,15), (6,18)]\n",
    "loss_hist = []\n",
    "weight_hist1 = []\n",
    "weight_hist2 = []"
   ]
  },
  {
   "cell_type": "code",
   "execution_count": 23,
   "metadata": {},
   "outputs": [],
   "source": [
    "for epoch in range(100):\n",
    "    for i, data2 in enumerate(data):\n",
    "        X, Y = iter(data2)\n",
    "        #X, Y = Variable(torch.FloatTensor([X]), requires_grad=True).cuda(), Variable(torch.FloatTensor([Y]), requires_grad=False).cuda()\n",
    "        X, Y = Variable(torch.FloatTensor([X]), requires_grad=True), Variable(torch.FloatTensor([Y]), requires_grad=False)\n",
    "\n",
    "        optimizer.zero_grad()\n",
    "        outputs = net(X)\n",
    "        loss = criterion(outputs, Y)\n",
    "        loss.backward()\n",
    "        optimizer.step()\n",
    "        \n",
    "        loss_hist.append(loss.data)\n",
    "        weight_hist1.append(net.fc1.weight)\n",
    "        weight_hist2.append(net.fc2.weight)\n",
    "        #if (i % 10 == 0):\n",
    "           # print(\"Epoch {} - loss: {}\".format(epoch, loss.data[0]))"
   ]
  },
  {
   "cell_type": "code",
   "execution_count": null,
   "metadata": {},
   "outputs": [],
   "source": [
    "# for the skip network\n",
    "skip_loss_hist = []\n",
    "skip_weight_hist1 = []\n",
    "skip_weight_hist2 = []\n",
    "\n",
    "for epoch in range(100):\n",
    "    for i, data2 in enumerate(data):\n",
    "        X, Y = iter(data2)\n",
    "        #X, Y = Variable(torch.FloatTensor([X]), requires_grad=True).cuda(), Variable(torch.FloatTensor([Y]), requires_grad=False).cuda()\n",
    "        X, Y = Variable(torch.FloatTensor([X]), requires_grad=True), Variable(torch.FloatTensor([Y]), requires_grad=False)\n",
    "\n",
    "        skipoptimizer.zero_grad()\n",
    "        outputs = net(X)\n",
    "        loss = criterion(outputs, Y)\n",
    "        loss.backward()\n",
    "        skipoptimizer.step()\n",
    "        \n",
    "        skip_loss_hist.append(loss.data[0])\n",
    "        skip_weight_hist1.append(net.fc1.weight)\n",
    "        skip_weight_hist2.append(net.fc2.weight)\n",
    "        if (i % 10 == 0):\n",
    "            print(\"Epoch {} - loss: {}\".format(epoch, loss.data[0]))\n"
   ]
  },
  {
   "cell_type": "code",
   "execution_count": 24,
   "metadata": {},
   "outputs": [
    {
     "data": {
      "text/plain": [
       "[<matplotlib.lines.Line2D at 0x7fcbc1efb3c8>]"
      ]
     },
     "execution_count": 24,
     "metadata": {},
     "output_type": "execute_result"
    },
    {
     "data": {
      "image/png": "[encoded data removed]",
      "text/plain": [
       "<Figure size 432x288 with 1 Axes>"
      ]
     },
     "metadata": {
      "needs_background": "light"
     },
     "output_type": "display_data"
    }
   ],
   "source": [
    "plt.plot(loss_hist)\n"
   ]
  },
  {
   "cell_type": "code",
   "execution_count": null,
   "metadata": {},
   "outputs": [],
   "source": [
    "plt.plot(skip_loss_hist)"
   ]
  },
  {
   "cell_type": "code",
   "execution_count": null,
   "metadata": {},
   "outputs": [],
   "source": [
    "plt.plot(skip_weight_hist1[0])"
   ]
  },
  {
   "cell_type": "code",
   "execution_count": 25,
   "metadata": {},
   "outputs": [
    {
     "name": "stdout",
     "output_type": "stream",
     "text": [
      "Epoch 0 - loss: 9.0\n",
      "Epoch 1 - loss: 9.0\n",
      "Epoch 2 - loss: 9.0\n",
      "Epoch 3 - loss: 9.0\n",
      "Epoch 4 - loss: 9.0\n",
      "Epoch 5 - loss: 9.0\n",
      "Epoch 6 - loss: 9.0\n",
      "Epoch 7 - loss: 9.0\n",
      "Epoch 8 - loss: 9.0\n",
      "Epoch 9 - loss: 9.0\n",
      "Epoch 10 - loss: 9.0\n",
      "Epoch 11 - loss: 9.0\n",
      "Epoch 12 - loss: 9.0\n",
      "Epoch 13 - loss: 9.0\n",
      "Epoch 14 - loss: 9.0\n",
      "Epoch 15 - loss: 9.0\n",
      "Epoch 16 - loss: 9.0\n",
      "Epoch 17 - loss: 9.0\n",
      "Epoch 18 - loss: 9.0\n",
      "Epoch 19 - loss: 9.0\n",
      "Epoch 20 - loss: 9.0\n",
      "Epoch 21 - loss: 9.0\n",
      "Epoch 22 - loss: 9.0\n",
      "Epoch 23 - loss: 9.0\n",
      "Epoch 24 - loss: 9.0\n",
      "Epoch 25 - loss: 9.0\n",
      "Epoch 26 - loss: 9.0\n",
      "Epoch 27 - loss: 9.0\n",
      "Epoch 28 - loss: 9.0\n",
      "Epoch 29 - loss: 9.0\n",
      "Epoch 30 - loss: 9.0\n",
      "Epoch 31 - loss: 9.0\n",
      "Epoch 32 - loss: 9.0\n",
      "Epoch 33 - loss: 9.0\n",
      "Epoch 34 - loss: 9.0\n",
      "Epoch 35 - loss: 9.0\n",
      "Epoch 36 - loss: 9.0\n",
      "Epoch 37 - loss: 9.0\n",
      "Epoch 38 - loss: 9.0\n",
      "Epoch 39 - loss: 9.0\n",
      "Epoch 40 - loss: 9.0\n",
      "Epoch 41 - loss: 9.0\n",
      "Epoch 42 - loss: 9.0\n",
      "Epoch 43 - loss: 9.0\n",
      "Epoch 44 - loss: 9.0\n",
      "Epoch 45 - loss: 9.0\n",
      "Epoch 46 - loss: 9.0\n",
      "Epoch 47 - loss: 9.0\n",
      "Epoch 48 - loss: 9.0\n",
      "Epoch 49 - loss: 9.0\n",
      "Epoch 50 - loss: 9.0\n",
      "Epoch 51 - loss: 9.0\n",
      "Epoch 52 - loss: 9.0\n",
      "Epoch 53 - loss: 9.0\n",
      "Epoch 54 - loss: 9.0\n",
      "Epoch 55 - loss: 9.0\n",
      "Epoch 56 - loss: 9.0\n",
      "Epoch 57 - loss: 9.0\n",
      "Epoch 58 - loss: 9.0\n",
      "Epoch 59 - loss: 9.0\n",
      "Epoch 60 - loss: 9.0\n",
      "Epoch 61 - loss: 9.0\n",
      "Epoch 62 - loss: 9.0\n",
      "Epoch 63 - loss: 9.0\n",
      "Epoch 64 - loss: 9.0\n",
      "Epoch 65 - loss: 9.0\n",
      "Epoch 66 - loss: 9.0\n",
      "Epoch 67 - loss: 9.0\n",
      "Epoch 68 - loss: 9.0\n",
      "Epoch 69 - loss: 9.0\n",
      "Epoch 70 - loss: 9.0\n",
      "Epoch 71 - loss: 9.0\n",
      "Epoch 72 - loss: 9.0\n",
      "Epoch 73 - loss: 9.0\n",
      "Epoch 74 - loss: 9.0\n",
      "Epoch 75 - loss: 9.0\n",
      "Epoch 76 - loss: 9.0\n",
      "Epoch 77 - loss: 9.0\n",
      "Epoch 78 - loss: 9.0\n",
      "Epoch 79 - loss: 9.0\n",
      "Epoch 80 - loss: 9.0\n",
      "Epoch 81 - loss: 9.0\n",
      "Epoch 82 - loss: 9.0\n",
      "Epoch 83 - loss: 9.0\n",
      "Epoch 84 - loss: 9.0\n",
      "Epoch 85 - loss: 9.0\n",
      "Epoch 86 - loss: 9.0\n",
      "Epoch 87 - loss: 9.0\n",
      "Epoch 88 - loss: 9.0\n",
      "Epoch 89 - loss: 9.0\n",
      "Epoch 90 - loss: 9.0\n",
      "Epoch 91 - loss: 9.0\n",
      "Epoch 92 - loss: 9.0\n",
      "Epoch 93 - loss: 9.0\n",
      "Epoch 94 - loss: 9.0\n",
      "Epoch 95 - loss: 9.0\n",
      "Epoch 96 - loss: 9.0\n",
      "Epoch 97 - loss: 9.0\n",
      "Epoch 98 - loss: 9.0\n",
      "Epoch 99 - loss: 9.0\n"
     ]
    },
    {
     "name": "stderr",
     "output_type": "stream",
     "text": [
      "/home/sgillen/work_dir/ucsb/env/lib/python3.6/site-packages/ipykernel_launcher.py:25: UserWarning: invalid index of a 0-dim tensor. This will be an error in PyTorch 0.5. Use tensor.item() to convert a 0-dim tensor to a Python number\n"
     ]
    }
   ],
   "source": [
    "class Net(nn.Module):\n",
    "    def __init__(self):\n",
    "        super(Net, self).__init__()\n",
    "        self.fc1 = nn.Linear(1,1)\n",
    "        self.fc2 = nn.Linear(1,1)\n",
    "    def forward(self, x):\n",
    "        x = F.relu(self.fc2(F.relu(self.fc1(x))))\n",
    "        return x\n",
    "    \n",
    "criterion = nn.MSELoss()\n",
    "net = Net()\n",
    "optimizer = optim.SGD(net.parameters(), lr=0.01, momentum=0.5)\n",
    "data = [(1,3), (2,6), (3,9), (4,12), (5,15), (6,18)]\n",
    "\n",
    "for epoch in range(100):\n",
    "    for i, data2 in enumerate(data):\n",
    "        X, Y = iter(data2)\n",
    "        X, Y = Variable(torch.FloatTensor([X]), requires_grad=True), Variable(torch.FloatTensor([Y]), requires_grad=False)\n",
    "        optimizer.zero_grad()\n",
    "        outputs = net(X)\n",
    "        loss = criterion(outputs, Y)\n",
    "        loss.backward()\n",
    "        optimizer.step()\n",
    "        if (i % 10 == 0):\n",
    "            print(\"Epoch {} - loss: {}\".format(epoch, loss.data[0]))"
   ]
  },
  {
   "cell_type": "code",
   "execution_count": null,
   "metadata": {},
   "outputs": [],
   "source": []
  }
 ],
 "metadata": {
  "kernelspec": {
   "display_name": "ucsb_python3",
   "language": "python",
   "name": "env"
  },
  "language_info": {
   "codemirror_mode": {
    "name": "ipython",
    "version": 3
   },
   "file_extension": ".py",
   "mimetype": "text/x-python",
   "name": "python",
   "nbconvert_exporter": "python",
   "pygments_lexer": "ipython3",
   "version": "3.6.6"
  }
 },
 "nbformat": 4,
 "nbformat_minor": 2
}
