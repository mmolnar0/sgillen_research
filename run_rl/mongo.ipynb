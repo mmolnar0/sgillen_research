{
 "cells": [
  {
   "cell_type": "code",
   "execution_count": 30,
   "metadata": {},
   "outputs": [],
   "source": [
    "import pymongo\n",
    "from pymongo import MongoClient\n",
    "import pprint"
   ]
  },
  {
   "cell_type": "code",
   "execution_count": 5,
   "metadata": {},
   "outputs": [],
   "source": [
    "client = MongoClient()"
   ]
  },
  {
   "cell_type": "code",
   "execution_count": 13,
   "metadata": {},
   "outputs": [],
   "source": [
    "db = client['deep_learning']\n",
    "cursor = db.inventory.find({})"
   ]
  },
  {
   "cell_type": "code",
   "execution_count": 36,
   "metadata": {},
   "outputs": [],
   "source": [
    "metrics =db.get_collection('metrics')"
   ]
  },
  {
   "cell_type": "code",
   "execution_count": 37,
   "metadata": {},
   "outputs": [],
   "source": [
    "something = metrics.find()"
   ]
  },
  {
   "cell_type": "code",
   "execution_count": 41,
   "metadata": {},
   "outputs": [
    {
     "name": "stdout",
     "output_type": "stream",
     "text": [
      "dict_items([('_id', ObjectId('5c47ee7f44df75dccb4f25f5')), ('epoch_idx', 1), ('frames', 8000), ('fps', 218), ('PMM:episode_rewards', 1.5555555555555556), ('P09:episode_rewards', 3.0), ('P01:episode_rewards', 0.0), ('episode_length', 188.80555555555554), ('value_loss', 0.016044369916235156), ('policy_entropy', 1.385070847272873), ('policy_loss', 0.0060574737575370815), ('grad_norm', 0.08734437417928845), ('advantage_norm', 1.2662566521018743), ('explained_variance', -1.2812960183620452), ('model_name', 'breakout_a2c'), ('run_name', 'breakout_a2c/0')])\n",
      "dict_items([('_id', ObjectId('5c47eea444df75dccb4f25f6')), ('epoch_idx', 2), ('frames', 16000), ('fps', 218), ('PMM:episode_rewards', 1.303370786516854), ('P09:episode_rewards', 3.0), ('P01:episode_rewards', 0.0), ('episode_length', 177.96629213483146), ('value_loss', 0.011631531342736708), ('policy_entropy', 1.3837178766727447), ('policy_loss', -0.0017794444505125284), ('grad_norm', 0.04100866073522538), ('advantage_norm', 1.117234623655677), ('explained_variance', 0.009886095523834229), ('model_name', 'breakout_a2c'), ('run_name', 'breakout_a2c/0')])\n",
      "dict_items([('_id', ObjectId('5c47eec944df75dccb4f25f7')), ('epoch_idx', 3), ('frames', 24000), ('fps', 217), ('PMM:episode_rewards', 1.14), ('P09:episode_rewards', 3.0), ('P01:episode_rewards', 0.0), ('episode_length', 171.73), ('value_loss', 0.010559849748788111), ('policy_entropy', 1.3850177204608918), ('policy_loss', 0.00020721435314044356), ('grad_norm', 0.0332845946276383), ('advantage_norm', 1.0309936366975307), ('explained_variance', -0.022944859266281127), ('model_name', 'breakout_a2c'), ('run_name', 'breakout_a2c/0')])\n"
     ]
    }
   ],
   "source": [
    "for post in metrics.find({}):\n",
    "    pprint.pprint(post)"
   ]
  },
  {
   "cell_type": "code",
   "execution_count": 43,
   "metadata": {},
   "outputs": [],
   "source": [
    "something_else = something[0]"
   ]
  },
  {
   "cell_type": "code",
   "execution_count": 45,
   "metadata": {},
   "outputs": [
    {
     "data": {
      "text/plain": [
       "0.08734437417928845"
      ]
     },
     "execution_count": 45,
     "metadata": {},
     "output_type": "execute_result"
    }
   ],
   "source": [
    "something_else['grad_norm']"
   ]
  },
  {
   "cell_type": "code",
   "execution_count": null,
   "metadata": {},
   "outputs": [],
   "source": []
  }
 ],
 "metadata": {
  "kernelspec": {
   "display_name": "Python [conda env:anaconda3]",
   "language": "python",
   "name": "conda-env-anaconda3-py"
  },
  "language_info": {
   "codemirror_mode": {
    "name": "ipython",
    "version": 3
   },
   "file_extension": ".py",
   "mimetype": "text/x-python",
   "name": "python",
   "nbconvert_exporter": "python",
   "pygments_lexer": "ipython3",
   "version": "3.6.7"
  }
 },
 "nbformat": 4,
 "nbformat_minor": 2
}
