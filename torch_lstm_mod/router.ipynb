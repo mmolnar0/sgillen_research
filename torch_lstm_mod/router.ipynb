{
 "cells": [
  {
   "cell_type": "code",
   "execution_count": 75,
   "metadata": {},
   "outputs": [],
   "source": [
    "import torch\n",
    "import torch.nn as nn\n",
    "#from torch.autograd import Variable\n",
    "from torch.nn.parameter import Parameter\n",
    "from torch.nn.functional import softmax\n",
    "\n",
    "\n",
    "class Router(nn.Module):\n",
    "    def __init__(self, input_size, hidden_size, router_size):\n",
    "        super().__init__()\n",
    "        \n",
    "        # routing layer gates\n",
    "        self.G1 = Parameter(torch.Tensor(input_size, router_size))\n",
    "        self.G2 = Parameter(torch.Tensor(router_size, 2))\n",
    "        \n",
    "        self.W1 = Parameter(torch.Tensor(input_size, hidden_size))\n",
    "        self.W2 = Parameter(torch.Tensor(hidden_size, 1))\n",
    "        \n",
    "        self.K = Parameter(torch.Tensor(input_size,1))\n",
    "    \n",
    "    def forward(self, x):\n",
    "        g1 = torch.sigmoid(x.matmul(self.G1))\n",
    "        g2 = torch.sigmoid(g1.matmul(self.G2))\n",
    "        d = softmax(g2, dim=0)\n",
    "        \n",
    "        # TODO this is likeley not effiecient (though maybe the JIT takes care of it magically...)\n",
    "        m = torch.distributions.Categorical(d)\n",
    "        path = m.sample()\n",
    "        \n",
    "        return g1,g2,d,x\n",
    "        "
   ]
  },
  {
   "cell_type": "code",
   "execution_count": 109,
   "metadata": {},
   "outputs": [
    {
     "name": "stdout",
     "output_type": "stream",
     "text": [
      "g1:  tensor([0.5000, 1.0000, 0.5000, 1.0000], grad_fn=<SigmoidBackward>)\n",
      "g2:  tensor([0.5000, 1.0000], grad_fn=<SigmoidBackward>)\n",
      "d:  tensor([0.3775, 0.6225], grad_fn=<SoftmaxBackward>)\n",
      "x: tensor([2.1996, 0.0659])\n",
      "\n",
      "G1 Parameter containing:\n",
      "tensor([[0.0000e+00, 3.6893e+19, 0.0000e+00, 3.6893e+19],\n",
      "        [9.6297e-32, 4.5911e-41, 9.6517e-32, 4.5911e-41]], requires_grad=True)\n",
      "G2 Parameter containing:\n",
      "tensor([[ 0.0000e+00,  3.6893e+19],\n",
      "        [-1.6465e-09, -4.6577e-10],\n",
      "        [-1.6444e-09, -4.6577e-10],\n",
      "        [-1.6486e-09,  1.8654e-40]], requires_grad=True)\n"
     ]
    }
   ],
   "source": [
    "net = Router(2,4,4)\n",
    "(g1, g2, d, x) = net(torch.randn(2))\n",
    "print(\"g1: \", g1)\n",
    "print(\"g2: \", g2)\n",
    "print(\"d: \", d)\n",
    "print(\"x:\", x)\n",
    "print()\n",
    "print(\"G1\", net.G1)\n",
    "print(\"G2\", net.G2)\n",
    "\n"
   ]
  },
  {
   "cell_type": "code",
   "execution_count": 13,
   "metadata": {},
   "outputs": [],
   "source": []
  },
  {
   "cell_type": "code",
   "execution_count": null,
   "metadata": {},
   "outputs": [],
   "source": []
  }
 ],
 "metadata": {
  "kernelspec": {
   "display_name": "Python [conda env:anaconda3]",
   "language": "python",
   "name": "conda-env-anaconda3-py"
  },
  "language_info": {
   "codemirror_mode": {
    "name": "ipython",
    "version": 3
   },
   "file_extension": ".py",
   "mimetype": "text/x-python",
   "name": "python",
   "nbconvert_exporter": "python",
   "pygments_lexer": "ipython3",
   "version": "3.6.7"
  }
 },
 "nbformat": 4,
 "nbformat_minor": 2
}
