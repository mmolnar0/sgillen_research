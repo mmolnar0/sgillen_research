{
 "cells": [
  {
   "cell_type": "code",
   "execution_count": 2,
   "metadata": {},
   "outputs": [
    {
     "ename": "ModuleNotFoundError",
     "evalue": "No module named 'pydrake'",
     "output_type": "error",
     "traceback": [
      "\u001b[0;31m---------------------------------------------------------------------------\u001b[0m",
      "\u001b[0;31mModuleNotFoundError\u001b[0m                       Traceback (most recent call last)",
      "\u001b[0;32m<ipython-input-2-4cbba0c666d4>\u001b[0m in \u001b[0;36m<module>\u001b[0;34m()\u001b[0m\n\u001b[1;32m      1\u001b[0m \u001b[0;32mfrom\u001b[0m \u001b[0m__future__\u001b[0m \u001b[0;32mimport\u001b[0m \u001b[0mprint_function\u001b[0m\u001b[0;34m\u001b[0m\u001b[0m\n\u001b[1;32m      2\u001b[0m \u001b[0;34m\u001b[0m\u001b[0m\n\u001b[0;32m----> 3\u001b[0;31m \u001b[0;32mimport\u001b[0m \u001b[0mpydrake\u001b[0m\u001b[0;34m\u001b[0m\u001b[0m\n\u001b[0m\u001b[1;32m      4\u001b[0m \u001b[0;32mimport\u001b[0m \u001b[0mmath\u001b[0m\u001b[0;34m\u001b[0m\u001b[0m\n\u001b[1;32m      5\u001b[0m \u001b[0;32mimport\u001b[0m \u001b[0mnumpy\u001b[0m \u001b[0;32mas\u001b[0m \u001b[0mnp\u001b[0m\u001b[0;34m\u001b[0m\u001b[0m\n",
      "\u001b[0;31mModuleNotFoundError\u001b[0m: No module named 'pydrake'"
     ]
    }
   ],
   "source": [
    "from __future__ import print_function\n",
    "\n",
    "import pydrake\n",
    "import math\n",
    "import numpy as np\n",
    "import matplotlib.pyplot as plt\n",
    "\n",
    "from pydrake.all import (DirectCollocation, FloatingBaseType,\n",
    "                         PiecewisePolynomial, RigidBodyTree, RigidBodyPlant,\n",
    "                         SolutionResult)\n",
    "from underactuated import (FindResource, PlanarRigidBodyVisualizer)\n",
    "\n",
    "from IPython.display import HTML\n",
    "\n",
    "\n",
    "tree = RigidBodyTree(FindResource(\"cartpole/cartpole.urdf\"),\n",
    "                     FloatingBaseType.kFixed)\n",
    "plant = RigidBodyPlant(tree)\n",
    "context = plant.CreateDefaultContext()\n",
    "\n",
    "dircol = DirectCollocation(plant, context, num_time_samples=21,\n",
    "                           minimum_timestep=0.1, maximum_timestep=0.4)\n",
    "\n",
    "dircol.AddEqualTimeIntervalsConstraints()\n",
    "\n",
    "initial_state = (0., 0., 0., 0.)\n",
    "dircol.AddBoundingBoxConstraint(initial_state, initial_state,\n",
    "                                dircol.initial_state())\n",
    "# More elegant version is blocked on drake #8315:\n",
    "# dircol.AddLinearConstraint(dircol.initial_state() == initial_state)\n",
    "\n",
    "final_state = (0., math.pi, 0., 0.)\n",
    "dircol.AddBoundingBoxConstraint(final_state, final_state,\n",
    "                                dircol.final_state())\n",
    "# dircol.AddLinearConstraint(dircol.final_state() == final_state)\n",
    "\n",
    "R = 10  # Cost on input \"effort\".\n",
    "u = dircol.input()\n",
    "dircol.AddRunningCost(R*u[0]**2)\n",
    "\n",
    "# Add a final cost equal to the total duration.\n",
    "dircol.AddFinalCost(dircol.time())\n",
    "\n",
    "initial_x_trajectory = \\\n",
    "    PiecewisePolynomial.FirstOrderHold([0., 4.],\n",
    "                                       np.column_stack((initial_state,\n",
    "                                                        final_state)))\n",
    "\n",
    "dircol.SetInitialTrajectory(PiecewisePolynomial(), initial_x_trajectory)\n",
    "\n",
    "result = dircol.Solve()\n",
    "assert(result == SolutionResult.kSolutionFound)\n",
    "\n",
    "x_trajectory = dircol.ReconstructStateTrajectory()\n",
    "\n",
    "#vis = PlanarRigidBodyVisualizer(tree, xlim=[-2.5, 2.5], ylim=[-1, 2.5])\n",
    "#ani = vis.animate(x_trajectory, repeat=True)\n",
    "\n",
    "u_trajectory = dircol.ReconstructInputTrajectory()\n",
    "times = np.linspace(u_trajectory.start_time(), u_trajectory.end_time(), 100)\n",
    "u_lookup = np.vectorize(u_trajectory.value)\n",
    "u_values = u_lookup(times)\n",
    "\n",
    "plt.figure()\n",
    "plt.plot(times, u_values)\n",
    "plt.xlabel('time (seconds)')\n",
    "plt.ylabel('force (Newtons)')\n",
    "\n",
    "\n",
    "prbv = PlanarRigidBodyVisualizer(tree, xlim=[-2.5, 2.5], ylim=[-1, 2.5])\n",
    "ani = prbv.animate(x_trajectory, resample=30, repeat=True)\n",
    "plt.close(prbv.fig)\n",
    "HTML(ani.to_html5_video())\n",
    "\n",
    "\n",
    "#plt.show()\n"
   ]
  },
  {
   "cell_type": "code",
   "execution_count": null,
   "metadata": {},
   "outputs": [],
   "source": []
  }
 ],
 "metadata": {
  "kernelspec": {
   "display_name": "Python [conda env:anaconda3]",
   "language": "python",
   "name": "conda-env-anaconda3-py"
  },
  "language_info": {
   "codemirror_mode": {
    "name": "ipython",
    "version": 3
   },
   "file_extension": ".py",
   "mimetype": "text/x-python",
   "name": "python",
   "nbconvert_exporter": "python",
   "pygments_lexer": "ipython3",
   "version": "3.6.3"
  }
 },
 "nbformat": 4,
 "nbformat_minor": 2
}
