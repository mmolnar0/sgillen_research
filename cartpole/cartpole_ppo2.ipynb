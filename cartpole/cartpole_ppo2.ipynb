{
 "cells": [
  {
   "cell_type": "code",
   "execution_count": 1,
   "metadata": {},
   "outputs": [
    {
     "name": "stderr",
     "output_type": "stream",
     "text": [
      "/Users/sgillen/anaconda3/lib/python3.6/site-packages/h5py/__init__.py:34: FutureWarning: Conversion of the second argument of issubdtype from `float` to `np.floating` is deprecated. In future, it will be treated as `np.float64 == np.dtype(float).type`.\n",
      "  from ._conv import register_converters as _register_converters\n"
     ]
    },
    {
     "name": "stdout",
     "output_type": "stream",
     "text": [
      "Logging to /var/folders/qq/gpxz4l6s1tndfdhysbz8bdym0000gn/T/openai-2018-11-30-18-04-44-622709\n"
     ]
    }
   ],
   "source": [
    "\"\"\"\n",
    "examples:\n",
    "\n",
    "python -m baselines.run --alg=ppo2 --env=Robosimian-v2 --num_timesteps=0 --load_path=./models/robosimian_full_video --play\n",
    "\n",
    "python -m baselines.run --alg=ppo2 --env=RobosimianIKTable-v2 --num_timesteps=0 --load_path=./models/robosimian_ik_2 --play\n",
    "\n",
    "python -m baselines.run --alg=ppo2 --env=RobosimianIKTable-v2 --num_timesteps=0 --load_path=./models/FS_CS_50_rough_5mil --play\n",
    "\n",
    "python -m baselines.run --alg=ppo2 --env=LeglessRobosimian-v2 --num_timesteps=0 --load_path=./models/robosimian_simple_4 --play\n",
    "\n",
    "python -m baselines.run --alg=ppo2 --env=LeglessRobosimian3Wheels-v2 --num_timesteps=0 --load_path=./models/3_wheels --play\n",
    "\n",
    "python -m baselines.run --alg=ppo2 --env=LeglessRobosimianXYZ-v2 --num_timesteps=1000000 --save_path=./models/simple_xyz_rough --play\n",
    "\n",
    "python -m baselines.run --alg=ppo2 --env=RSBalance-v2 --num_timesteps=100000 --save_path=./models/balance_v0 --play\n",
    "\n",
    "python -m baselines.run --alg=ppo2 --env=RSBalanceWithTraj-v2 --num_timesteps=100000 --save_path=./models/balance_with_traj_v0 --play\n",
    "\n",
    "python -m baselines.run --alg=ppo2 --env=RSBalanceWithTraj-v2 --num_timesteps=0 --load_path=./models/balance_with_traj_v1 --play\n",
    "\n",
    "\"\"\"\n",
    "\n"
   ]
  },
  {
   "cell_type": "code",
   "execution_count": null,
   "metadata": {},
   "outputs": [],
   "source": []
  }
 ],
 "metadata": {
  "kernelspec": {
   "display_name": "Python [conda env:anaconda3]",
   "language": "python",
   "name": "conda-env-anaconda3-py"
  },
  "language_info": {
   "codemirror_mode": {
    "name": "ipython",
    "version": 3
   },
   "file_extension": ".py",
   "mimetype": "text/x-python",
   "name": "python",
   "nbconvert_exporter": "python",
   "pygments_lexer": "ipython3",
   "version": "3.6.3"
  }
 },
 "nbformat": 4,
 "nbformat_minor": 2
}
