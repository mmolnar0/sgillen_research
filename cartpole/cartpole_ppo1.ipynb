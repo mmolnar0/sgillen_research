{
 "cells": [
  {
   "cell_type": "markdown",
   "metadata": {},
   "source": [
    "This uses the open AI gym baseline with some slight modifications. Mostly copied code from here\n",
    "https://github.com/openai/baselines/tree/master/baselines/ppo1. Looks like the version I got from pip and the version currently on master don't quite sync up. (For example there is no tf_util.save_state fcn so we save manually"
   ]
  },
  {
   "cell_type": "code",
   "execution_count": 1,
   "metadata": {},
   "outputs": [
    {
     "name": "stdout",
     "output_type": "stream",
     "text": [
      "Logging to /var/folders/qq/gpxz4l6s1tndfdhysbz8bdym0000gn/T/openai-2018-12-05-18-35-54-493215\n"
     ]
    },
    {
     "name": "stderr",
     "output_type": "stream",
     "text": [
      "/Users/sgillen/anaconda3/lib/python3.6/site-packages/h5py/__init__.py:34: FutureWarning: Conversion of the second argument of issubdtype from `float` to `np.floating` is deprecated. In future, it will be treated as `np.float64 == np.dtype(float).type`.\n",
      "  from ._conv import register_converters as _register_converters\n"
     ]
    }
   ],
   "source": [
    "from baselines.common.cmd_util import make_mujoco_env, mujoco_arg_parser\n",
    "from baselines.common import tf_util as U\n",
    "import tensorflow as tf\n",
    "from baselines import logger\n",
    "import os\n",
    "import sys\n",
    "from baselines.ppo1 import mlp_policy, pposgd_simple\n",
    "\n",
    "import gym\n",
    "import gym_ucsb_robolab\n",
    "import policies.mlp_relu_policy as mlp_relu_policy\n",
    "\n",
    "import numpy as np\n",
    "from mpl_toolkits import mplot3d\n",
    "%matplotlib inline\n",
    "import matplotlib.pyplot as plt\n",
    "import itertools\n",
    "\n",
    "#Needed for saving \n",
    "import errno, datetime, time, inspect\n",
    "\n",
    "def train(env_id, num_timesteps, seed=0):\n",
    "\n",
    "    U.make_session(num_cpu=16).__enter__()\n",
    "    \n",
    "    def policy_fn(name, ob_space, ac_space):\n",
    "        #return mlp_policy.MlpPolicy(name=name, ob_space=ob_space, ac_space=ac_space, hid_size=64, num_hid_layers=64)\n",
    "        return mlp_relu_policy.ReluMlpPolicy(name=name, ob_space=ob_space, ac_space=ac_space, hid_size=64, num_hid_layers=4)\n",
    "\n",
    "    env = gym.make(env_id)\n",
    "    pi = pposgd_simple.learn(env, policy_fn,\n",
    "            max_timesteps=num_timesteps,\n",
    "            timesteps_per_actorbatch=2048,\n",
    "            clip_param=0.2, entcoeff=0.0,\n",
    "            optim_epochs=10, optim_stepsize=3e-4, optim_batchsize=64,\n",
    "            gamma=0.99, lam=0.95, schedule='linear',\n",
    "        )\n",
    "    env.close()\n",
    "   \n",
    "    return pi\n",
    "\n",
    "\n",
    "\n",
    "def save_results(filename, description = None):\n",
    "    \"\"\" \n",
    "    description: saves the results of a run of the second cell (the one that calls train) in this notebook\n",
    "    \n",
    "    \"\"\"\n",
    "\n",
    "    save_dir = \"data/\" + filename + \"/\"\n",
    "    os.makedirs(save_dir)\n",
    "    \n",
    "    if description is None:\n",
    "        description  = input(\"please enter a description of the run\")\n",
    "        \n",
    "    datetime_str = str(datetime.datetime.today())\n",
    "    datetime_str = datetime_str.replace(\" \", \"_\")\n",
    "    \n",
    "    runtime_str = str(datetime.timedelta(seconds = runtime))\n",
    "    \n",
    "    readme = open(save_dir + \"README.txt\", \"w+\")\n",
    "    readme.write(\"datetime: \" + datetime_str + \"\\n\\n\")\n",
    "    readme.write(\"enviroment: \" + env_name + \"\\n\\n\")\n",
    "    readme.write(\"description: \" + description + \"\\n\\n\")\n",
    "    readme.write(\"time_elapsed: \" + runtime_str + \"\\n\\n\")\n",
    "    readme.write(\"num_timesteps: \" + str(num_timesteps) + \"\\n\\n\")\n",
    "    readme.write(\"seed: \" + str(seed) + \"\\n\\n\")\n",
    "    readme.close()\n",
    "\n",
    "    # TODO add code snippets that correspond to the run\n",
    "    # TODO somehow store the tensorboard logs here after the fact\n",
    "    \n",
    "    saver = tf.train.Saver()\n",
    "    saver.save(tf.get_default_session(), save_dir + filename)\n",
    "    \n",
    "    os.rename(\"./tmp_logs/\", save_dir + \"tensorboard\")\n",
    "   \n",
    "   \n",
    "env_name = \"Acrobot-v1\"\n",
    "#env_name = \"InvertedPendulum-v2\"\n",
    "#env_name = 'InvertedPendulumPyBulletEnv-v0'\n",
    "#env_name = \"su_cartpole_et-v0\"\n",
    "#env_name = \"InvertedDoublePendulum-v2\"\n"
   ]
  },
  {
   "cell_type": "code",
   "execution_count": 2,
   "metadata": {
    "collapsed": true
   },
   "outputs": [
    {
     "name": "stdout",
     "output_type": "stream",
     "text": [
      "training\n",
      "\u001b[33mWARN: gym.spaces.Box autodetected dtype as <class 'numpy.float32'>. Please provide explicit dtype.\u001b[0m\n"
     ]
    }
   ],
   "source": [
    "# comment one of these lines to switch between loading weights or training them from scratch\n",
    "#load_pretrained_network = True\n",
    "load_pretrained_network = False\n",
    "\n",
    "\n",
    "if load_pretrained_network: #load the weights\n",
    "    save_name = 'invertedpendulum_3layer'\n",
    "    \n",
    "    pi = train(env_name, num_timesteps=1, seed=0)\n",
    "    # TODO eventually need to switch to .load_variables() instead of U.load_state() but this didn't work by default for me\n",
    "    U.load_state(os.getcwd() + '/data/'+ save_name + '/' + save_name)\n",
    "    \n",
    "else: #run the RL algorithm\n",
    "    num_timesteps = 2e6\n",
    "    seed = 0\n",
    "    \n",
    "    print(\"training\")\n",
    "    \n",
    "    start_time = time.time()\n",
    "    \n",
    "    logger.configure(dir = \"./tmp_logs\", format_strs=[\"tensorboard\"] )\n",
    "    with tf.device(\"/cpu:0\"):    \n",
    "        pi= train(env_name, num_timesteps=num_timesteps, seed=seed)\n",
    "\n",
    "    runtime = time.time() - start_time\n",
    "\n"
   ]
  },
  {
   "cell_type": "code",
   "execution_count": 18,
   "metadata": {
    "collapsed": true
   },
   "outputs": [
    {
     "name": "stdout",
     "output_type": "stream",
     "text": [
      "\u001b[33mWARN: gym.spaces.Box autodetected dtype as <class 'numpy.float32'>. Please provide explicit dtype.\u001b[0m\n",
      "\u001b[33mWARN: gym.spaces.Box autodetected dtype as <class 'numpy.float32'>. Please provide explicit dtype.\u001b[0m\n",
      "Creating window glfw\n"
     ]
    },
    {
     "ename": "KeyboardInterrupt",
     "evalue": "",
     "output_type": "error",
     "traceback": [
      "\u001b[0;31m---------------------------------------------------------------------------\u001b[0m",
      "\u001b[0;31mKeyboardInterrupt\u001b[0m                         Traceback (most recent call last)",
      "\u001b[0;32m<ipython-input-18-d7417cbf385b>\u001b[0m in \u001b[0;36m<module>\u001b[0;34m()\u001b[0m\n\u001b[1;32m      6\u001b[0m \u001b[0;34m\u001b[0m\u001b[0m\n\u001b[1;32m      7\u001b[0m \u001b[0;32mwhile\u001b[0m \u001b[0;32mTrue\u001b[0m\u001b[0;34m:\u001b[0m\u001b[0;34m\u001b[0m\u001b[0m\n\u001b[0;32m----> 8\u001b[0;31m     \u001b[0maction\u001b[0m \u001b[0;34m=\u001b[0m \u001b[0mpi\u001b[0m\u001b[0;34m.\u001b[0m\u001b[0mact\u001b[0m\u001b[0;34m(\u001b[0m\u001b[0mstochastic\u001b[0m\u001b[0;34m=\u001b[0m\u001b[0;32mFalse\u001b[0m\u001b[0;34m,\u001b[0m \u001b[0mob\u001b[0m\u001b[0;34m=\u001b[0m\u001b[0mob\u001b[0m\u001b[0;34m)\u001b[0m\u001b[0;34m[\u001b[0m\u001b[0;36m0\u001b[0m\u001b[0;34m]\u001b[0m\u001b[0;34m\u001b[0m\u001b[0m\n\u001b[0m\u001b[1;32m      9\u001b[0m     \u001b[0mob\u001b[0m\u001b[0;34m,\u001b[0m \u001b[0m_\u001b[0m\u001b[0;34m,\u001b[0m \u001b[0mdone\u001b[0m\u001b[0;34m,\u001b[0m \u001b[0m_\u001b[0m \u001b[0;34m=\u001b[0m  \u001b[0menv\u001b[0m\u001b[0;34m.\u001b[0m\u001b[0mstep\u001b[0m\u001b[0;34m(\u001b[0m\u001b[0maction\u001b[0m\u001b[0;34m)\u001b[0m\u001b[0;34m\u001b[0m\u001b[0m\n\u001b[1;32m     10\u001b[0m     \u001b[0;31m#if reward == 1:\u001b[0m\u001b[0;34m\u001b[0m\u001b[0;34m\u001b[0m\u001b[0m\n",
      "\u001b[0;32m~/work_dir/ucsb/sgillen_research/policies/mlp_relu_policy.py\u001b[0m in \u001b[0;36mact\u001b[0;34m(self, stochastic, ob)\u001b[0m\n\u001b[1;32m     51\u001b[0m \u001b[0;34m\u001b[0m\u001b[0m\n\u001b[1;32m     52\u001b[0m     \u001b[0;32mdef\u001b[0m \u001b[0mact\u001b[0m\u001b[0;34m(\u001b[0m\u001b[0mself\u001b[0m\u001b[0;34m,\u001b[0m \u001b[0mstochastic\u001b[0m\u001b[0;34m,\u001b[0m \u001b[0mob\u001b[0m\u001b[0;34m)\u001b[0m\u001b[0;34m:\u001b[0m\u001b[0;34m\u001b[0m\u001b[0m\n\u001b[0;32m---> 53\u001b[0;31m         \u001b[0mac1\u001b[0m\u001b[0;34m,\u001b[0m \u001b[0mvpred1\u001b[0m \u001b[0;34m=\u001b[0m  \u001b[0mself\u001b[0m\u001b[0;34m.\u001b[0m\u001b[0m_act\u001b[0m\u001b[0;34m(\u001b[0m\u001b[0mstochastic\u001b[0m\u001b[0;34m,\u001b[0m \u001b[0mob\u001b[0m\u001b[0;34m[\u001b[0m\u001b[0;32mNone\u001b[0m\u001b[0;34m]\u001b[0m\u001b[0;34m)\u001b[0m\u001b[0;34m\u001b[0m\u001b[0m\n\u001b[0m\u001b[1;32m     54\u001b[0m         \u001b[0;32mreturn\u001b[0m \u001b[0mac1\u001b[0m\u001b[0;34m[\u001b[0m\u001b[0;36m0\u001b[0m\u001b[0;34m]\u001b[0m\u001b[0;34m,\u001b[0m \u001b[0mvpred1\u001b[0m\u001b[0;34m[\u001b[0m\u001b[0;36m0\u001b[0m\u001b[0;34m]\u001b[0m\u001b[0;34m\u001b[0m\u001b[0m\n\u001b[1;32m     55\u001b[0m     \u001b[0;32mdef\u001b[0m \u001b[0mget_variables\u001b[0m\u001b[0;34m(\u001b[0m\u001b[0mself\u001b[0m\u001b[0;34m)\u001b[0m\u001b[0;34m:\u001b[0m\u001b[0;34m\u001b[0m\u001b[0m\n",
      "\u001b[0;32m~/work_dir/ucsb/baselines/baselines/common/tf_util.py\u001b[0m in \u001b[0;36m__call__\u001b[0;34m(self, *args)\u001b[0m\n\u001b[1;32m    207\u001b[0m         \u001b[0;32mfor\u001b[0m \u001b[0minpt\u001b[0m \u001b[0;32min\u001b[0m \u001b[0mself\u001b[0m\u001b[0;34m.\u001b[0m\u001b[0mgivens\u001b[0m\u001b[0;34m:\u001b[0m\u001b[0;34m\u001b[0m\u001b[0m\n\u001b[1;32m    208\u001b[0m             \u001b[0mfeed_dict\u001b[0m\u001b[0;34m[\u001b[0m\u001b[0minpt\u001b[0m\u001b[0;34m]\u001b[0m \u001b[0;34m=\u001b[0m \u001b[0madjust_shape\u001b[0m\u001b[0;34m(\u001b[0m\u001b[0minpt\u001b[0m\u001b[0;34m,\u001b[0m \u001b[0mfeed_dict\u001b[0m\u001b[0;34m.\u001b[0m\u001b[0mget\u001b[0m\u001b[0;34m(\u001b[0m\u001b[0minpt\u001b[0m\u001b[0;34m,\u001b[0m \u001b[0mself\u001b[0m\u001b[0;34m.\u001b[0m\u001b[0mgivens\u001b[0m\u001b[0;34m[\u001b[0m\u001b[0minpt\u001b[0m\u001b[0;34m]\u001b[0m\u001b[0;34m)\u001b[0m\u001b[0;34m)\u001b[0m\u001b[0;34m\u001b[0m\u001b[0m\n\u001b[0;32m--> 209\u001b[0;31m         \u001b[0mresults\u001b[0m \u001b[0;34m=\u001b[0m \u001b[0mget_session\u001b[0m\u001b[0;34m(\u001b[0m\u001b[0;34m)\u001b[0m\u001b[0;34m.\u001b[0m\u001b[0mrun\u001b[0m\u001b[0;34m(\u001b[0m\u001b[0mself\u001b[0m\u001b[0;34m.\u001b[0m\u001b[0moutputs_update\u001b[0m\u001b[0;34m,\u001b[0m \u001b[0mfeed_dict\u001b[0m\u001b[0;34m=\u001b[0m\u001b[0mfeed_dict\u001b[0m\u001b[0;34m)\u001b[0m\u001b[0;34m[\u001b[0m\u001b[0;34m:\u001b[0m\u001b[0;34m-\u001b[0m\u001b[0;36m1\u001b[0m\u001b[0;34m]\u001b[0m\u001b[0;34m\u001b[0m\u001b[0m\n\u001b[0m\u001b[1;32m    210\u001b[0m         \u001b[0;32mreturn\u001b[0m \u001b[0mresults\u001b[0m\u001b[0;34m\u001b[0m\u001b[0m\n\u001b[1;32m    211\u001b[0m \u001b[0;34m\u001b[0m\u001b[0m\n",
      "\u001b[0;32m~/anaconda3/lib/python3.6/site-packages/tensorflow/python/client/session.py\u001b[0m in \u001b[0;36mrun\u001b[0;34m(self, fetches, feed_dict, options, run_metadata)\u001b[0m\n\u001b[1;32m    885\u001b[0m     \u001b[0;32mtry\u001b[0m\u001b[0;34m:\u001b[0m\u001b[0;34m\u001b[0m\u001b[0m\n\u001b[1;32m    886\u001b[0m       result = self._run(None, fetches, feed_dict, options_ptr,\n\u001b[0;32m--> 887\u001b[0;31m                          run_metadata_ptr)\n\u001b[0m\u001b[1;32m    888\u001b[0m       \u001b[0;32mif\u001b[0m \u001b[0mrun_metadata\u001b[0m\u001b[0;34m:\u001b[0m\u001b[0;34m\u001b[0m\u001b[0m\n\u001b[1;32m    889\u001b[0m         \u001b[0mproto_data\u001b[0m \u001b[0;34m=\u001b[0m \u001b[0mtf_session\u001b[0m\u001b[0;34m.\u001b[0m\u001b[0mTF_GetBuffer\u001b[0m\u001b[0;34m(\u001b[0m\u001b[0mrun_metadata_ptr\u001b[0m\u001b[0;34m)\u001b[0m\u001b[0;34m\u001b[0m\u001b[0m\n",
      "\u001b[0;31mKeyboardInterrupt\u001b[0m: "
     ]
    }
   ],
   "source": [
    "# Plays out a trained policy\n",
    "\n",
    "#env = make_mujoco_env(env_name,seed=0)\n",
    "env = gym.make(env_name)\n",
    "ob = env.reset()     \n",
    "\n",
    "while True:\n",
    "    action = pi.act(stochastic=False, ob=ob)[0]\n",
    "    ob, _, done, _ =  env.step(action)\n",
    "    #if reward == 1:\n",
    "    #    print(\"balanced\")\n",
    "    env.render()\n",
    "    if done:\n",
    "        ob = env.reset()\n",
    "        \n",
    "#U.save_state(\"./saved/5mil_flat\")"
   ]
  },
  {
   "cell_type": "code",
   "execution_count": 5,
   "metadata": {
    "collapsed": true
   },
   "outputs": [
    {
     "data": {
      "text/plain": [
       "array([ 0.00022093,  0.00701524, -0.08612429, -0.09724561,  0.0744689 ,\n",
       "       -0.09349876, -0.07739808, -0.08839117,  0.06002098,  0.01686529,\n",
       "        0.0822611 , -0.08303957, -0.09211896,  0.0745272 ,  0.07848975,\n",
       "        0.10347822, -0.0962518 , -0.09260981,  0.0334757 , -0.10034765,\n",
       "       -0.06236377, -0.02273824,  0.06175464,  0.08272546,  0.07822625,\n",
       "       -0.07706811,  0.10436177,  0.0743468 , -0.08820941,  0.00082479,\n",
       "        0.06508421, -0.07411227,  0.04990156,  0.04177926,  0.09337717,\n",
       "        0.07089289,  0.09652974, -0.08937714, -0.06046731, -0.10600229,\n",
       "        0.10183298, -0.0948131 , -0.03619727, -0.0323933 , -0.10100812,\n",
       "       -0.07821049,  0.08761895,  0.06213371,  0.00514502, -0.10112765,\n",
       "       -0.06152017, -0.05886612, -0.06205735, -0.10797895, -0.09072303,\n",
       "        0.08523837, -0.07785653,  0.06261692, -0.0958551 ,  0.0189053 ,\n",
       "        0.099441  ,  0.07576342, -0.03832641,  0.09693529], dtype=float32)"
      ]
     },
     "execution_count": 5,
     "metadata": {},
     "output_type": "execute_result"
    }
   ],
   "source": [
    "all_weights = pi.get_variables()\n",
    "fc1 = all_weights[4]\n",
    "fc1_weights = fc1.value()\n",
    "fc1_weights.eval() # only positive weights contribute anything"
   ]
  },
  {
   "cell_type": "code",
   "execution_count": null,
   "metadata": {
    "collapsed": true
   },
   "outputs": [],
   "source": [
    "#input_iter = itertools.combinations_with_replacement(range(-10,11),4)\n",
    "#input_data = np.array([np.array(x) for x in input_iter],dtype='float32')\n",
    "#output_data = np.array([pi.act(0, x)[0] for x in input_data],dtype='float32')\n",
    "\n",
    "input_iter = itertools.combinations_with_replacement(range(-10,11),2)\n",
    "input_data = np.array([np.concatenate((np.zeros(2), np.array(x))) for x in input_iter],dtype='float32')\n",
    "output_data = np.array([pi.act(0, x)[0] for x in input_data],dtype='float32')"
   ]
  },
  {
   "cell_type": "code",
   "execution_count": null,
   "metadata": {},
   "outputs": [],
   "source": [
    "from sklearn import datasets, linear_model\n",
    "from sklearn.metrics import mean_squared_error, r2_score\n",
    "regr = linear_model.LinearRegression()\n",
    "\n",
    "regr.fit(input_data,output_data.T.flatten())\n",
    "#regr.fit(input_data,output_data)\n",
    "#regr.fit(index, output_data.T.flatten())\n",
    "\n",
    "lin_predict = regr.predict(input_data)\n",
    "#lin_predict = regr.predict(index)\n",
    "\n",
    "print(\"coefs are\", regr.coef_)\n",
    "print(\"mean sqared error:\", mean_squared_error(lin_predict, output_data))"
   ]
  },
  {
   "cell_type": "code",
   "execution_count": null,
   "metadata": {},
   "outputs": [],
   "source": [
    "plt.plot(output_data)\n",
    "plt.figure()\n",
    "plt.plot(lin_predict)"
   ]
  },
  {
   "cell_type": "code",
   "execution_count": 21,
   "metadata": {
    "collapsed": true
   },
   "outputs": [
    {
     "data": {
      "text/plain": [
       "[<matplotlib.lines.Line2D at 0x1c2c561a90>]"
      ]
     },
     "execution_count": 21,
     "metadata": {},
     "output_type": "execute_result"
    },
    {
     "data": {
      "image/png": "[encoded data removed]",
      "text/plain": [
       "<matplotlib.figure.Figure at 0x1c205ffa58>"
      ]
     },
     "metadata": {},
     "output_type": "display_data"
    },
    {
     "data": {
      "image/png": "[encoded data removed]",
      "text/plain": [
       "<matplotlib.figure.Figure at 0x1c205ff400>"
      ]
     },
     "metadata": {},
     "output_type": "display_data"
    },
    {
     "data": {
      "image/png": "[encoded data removed]",
      "text/plain": [
       "<matplotlib.figure.Figure at 0x1c205669b0>"
      ]
     },
     "metadata": {},
     "output_type": "display_data"
    },
    {
     "data": {
      "image/png": "[encoded data removed]",
      "text/plain": [
       "<matplotlib.figure.Figure at 0x1c20e80be0>"
      ]
     },
     "metadata": {},
     "output_type": "display_data"
    },
    {
     "data": {
      "image/png": "[encoded data removed]",
      "text/plain": [
       "<matplotlib.figure.Figure at 0x1c2c53a198>"
      ]
     },
     "metadata": {},
     "output_type": "display_data"
    }
   ],
   "source": [
    "input_data = np.array([[x, 0, 0, 0] for x in range(-10,11)])\n",
    "output_data = np.array([pi.act(0, x)[0] for x in input_data])\n",
    "plt.plot(input_data[:,0], output_data)\n",
    "plt.figure()\n",
    "\n",
    "input_data = np.array([[0, x, 0, 0] for x in range(-10,11)])\n",
    "output_data = np.array([pi.act(0, x)[0] for x in input_data])\n",
    "plt.plot(input_data[:,1], output_data)\n",
    "plt.figure()\n",
    "\n",
    "input_data = np.array([[0, 0, x, 0] for x in range(-10,11)])\n",
    "output_data = np.array([pi.act(0, x)[0] for x in input_data])\n",
    "plt.plot(input_data[:,2], output_data)\n",
    "plt.figure()\n",
    "\n",
    "input_data = np.array([[0, 0, 0, x] for x in range(-10,11)])\n",
    "output_data = np.array([pi.act(0, x)[0] for x in input_data])\n",
    "plt.plot(input_data[:,3], output_data)\n",
    "plt.figure()\n",
    "\n",
    "input_data = np.array([[x, x, x, x] for x in range(-10,11)])\n",
    "output_data = np.array([pi.act(0, x)[0] for x in input_data])\n",
    "plt.plot(input_data[:,0], output_data)"
   ]
  },
  {
   "cell_type": "code",
   "execution_count": null,
   "metadata": {
    "collapsed": true
   },
   "outputs": [],
   "source": [
    "x = input_data[:,2]\n",
    "y = input_data[:,3]\n",
    "z= output_data.flatten()\n",
    "z2 = lin_predict.flatten()"
   ]
  },
  {
   "cell_type": "code",
   "execution_count": null,
   "metadata": {},
   "outputs": [],
   "source": [
    "ax = plt.axes(projection='3d')\n",
    "ax.plot_trisurf(x, y, z, cmap='viridis', edgecolor='none');\n",
    "\n",
    "ax2 = plt.axes(projection='3d')\n",
    "ax2.plot_trisurf(x, y, z2, cmap='viridis', edgecolor='none');"
   ]
  },
  {
   "cell_type": "code",
   "execution_count": 20,
   "metadata": {},
   "outputs": [],
   "source": [
    "import scipy.io\n",
    "\n",
    "all_weights = pi.get_variables()\n",
    "\n",
    "# I'll fix this later..\n",
    "kernel0 = all_weights[13].value().eval()\n",
    "bias0   = all_weights[14].value().eval()\n",
    "\n",
    "kernel1 = all_weights[15].value().eval()\n",
    "bias1   = all_weights[16].value().eval()\n",
    "\n",
    "kernel2 = all_weights[17].value().eval()\n",
    "bias2   = all_weights[18].value().eval()\n",
    "\n",
    "name_dict = {\"kernel0\": kernel0, \"kernel1\":kernel1, \"kernel2\":kernel2, \"bias0\":bias0, \"bias1\":bias1, \"bias2\":bias2}\n",
    "scipy.io.savemat(\"savemat_test\", name_dict)"
   ]
  },
  {
   "cell_type": "code",
   "execution_count": null,
   "metadata": {},
   "outputs": [],
   "source": []
  }
 ],
 "metadata": {
  "kernelspec": {
   "display_name": "Python [conda env:anaconda3]",
   "language": "python",
   "name": "conda-env-anaconda3-py"
  },
  "language_info": {
   "codemirror_mode": {
    "name": "ipython",
    "version": 3
   },
   "file_extension": ".py",
   "mimetype": "text/x-python",
   "name": "python",
   "nbconvert_exporter": "python",
   "pygments_lexer": "ipython3",
   "version": "3.6.3"
  }
 },
 "nbformat": 4,
 "nbformat_minor": 2
}
