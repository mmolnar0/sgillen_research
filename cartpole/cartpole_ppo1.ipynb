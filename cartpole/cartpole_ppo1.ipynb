{
 "cells": [
  {
   "cell_type": "markdown",
   "metadata": {},
   "source": [
    "This uses the open AI gym baseline with some slight modifications. Mostly copied code from here\n",
    "https://github.com/openai/baselines/tree/master/baselines/ppo1. Looks like the version I got from pip and the version currently on master don't quite sync up. (For example there is no tf_util.save_state fcn so we save manually"
   ]
  },
  {
   "cell_type": "code",
   "execution_count": 22,
   "metadata": {},
   "outputs": [],
   "source": [
    "from baselines.common.cmd_util import make_mujoco_env, mujoco_arg_parser\n",
    "from baselines.common import tf_util as U\n",
    "import tensorflow as tf\n",
    "from baselines import logger\n",
    "import os\n",
    "import sys\n",
    "from baselines.ppo1 import mlp_policy, pposgd_simple\n",
    "\n",
    "import gym\n",
    "import gym_ucsb_robolab\n",
    "import policies.mlp_relu_policy as mlp_relu_policy\n",
    "\n",
    "import numpy as np\n",
    "import matplotlib.pyplot as plt\n",
    "%matplotlib inline\n",
    "import itertools\n",
    "\n",
    "#Needed for saving \n",
    "import errno, datetime, time, inspect\n",
    "\n",
    "def train(env_id, num_timesteps, seed=0):\n",
    "\n",
    "    U.make_session(num_cpu=16).__enter__()\n",
    "    \n",
    "    def policy_fn(name, ob_space, ac_space):\n",
    "        #return mlp_policy.MlpPolicy(name=name, ob_space=ob_space, ac_space=ac_space, hid_size=64, num_hid_layers=64)\n",
    "        return mlp_relu_policy.ReluMlpPolicy(name=name, ob_space=ob_space, ac_space=ac_space, hid_size=64, num_hid_layers=4)\n",
    "\n",
    "    env = gym.make(env_id)\n",
    "    pi = pposgd_simple.learn(env, policy_fn,\n",
    "            max_timesteps=num_timesteps,\n",
    "            timesteps_per_actorbatch=2048,\n",
    "            clip_param=0.2, entcoeff=0.0,\n",
    "            optim_epochs=10, optim_stepsize=3e-4, optim_batchsize=64,\n",
    "            gamma=0.99, lam=0.95, schedule='linear',\n",
    "        )\n",
    "    env.close()\n",
    "   \n",
    "    return pi\n",
    "\n",
    "\n",
    "\n",
    "def save_results(filename, description = None):\n",
    "    \"\"\" \n",
    "    description: saves the results of a run of the second cell (the one that calls train) in this notebook\n",
    "    \n",
    "    \"\"\"\n",
    "\n",
    "    save_dir = \"data/\" + filename + \"/\"\n",
    "    os.makedirs(save_dir)\n",
    "    \n",
    "    if description is None:\n",
    "        description  = input(\"please enter a description of the run\")\n",
    "        \n",
    "    datetime_str = str(datetime.datetime.today())\n",
    "    datetime_str = datetime_str.replace(\" \", \"_\")\n",
    "    \n",
    "    runtime_str = str(datetime.timedelta(seconds = runtime))\n",
    "    \n",
    "    readme = open(save_dir + \"README.txt\", \"w+\")\n",
    "    readme.write(\"datetime: \" + datetime_str + \"\\n\\n\")\n",
    "    readme.write(\"enviroment: \" + env_name + \"\\n\\n\")\n",
    "    readme.write(\"description: \" + description + \"\\n\\n\")\n",
    "    readme.write(\"time_elapsed: \" + runtime_str + \"\\n\\n\")\n",
    "    readme.write(\"num_timesteps: \" + str(num_timesteps) + \"\\n\\n\")\n",
    "    readme.write(\"seed: \" + str(seed) + \"\\n\\n\")\n",
    "    readme.close()\n",
    "\n",
    "    # TODO add code snippets that correspond to the run\n",
    "    # TODO somehow store the tensorboard logs here after the fact\n",
    "    \n",
    "    saver = tf.train.Saver()\n",
    "    saver.save(tf.get_default_session(), save_dir + filename)\n",
    "    \n",
    "    os.rename(\"./tmp_logs/\", save_dir + \"tensorboard\")\n",
    "   \n",
    "   \n",
    "#env_name = \"Acrobot-v1\"\n",
    "env_name = \"InvertedPendulum-v2\"\n",
    "#env_name = 'InvertedPendulumPyBulletEnv-v0'\n",
    "#env_name = \"su_cartpole_et-v0\"\n",
    "#env_name = \"InvertedDoublePendulum-v2\"\n"
   ]
  },
  {
   "cell_type": "code",
   "execution_count": null,
   "metadata": {},
   "outputs": [],
   "source": [
    "start_time = time.time()\n",
    "\n",
    "\n",
    "num_timesteps = 2e5\n",
    "seed = 0\n",
    "\n",
    "logger.configure(dir = \"./tmp_logs\", format_strs=[\"tensorboard\"] )\n",
    "with tf.device(\"/cpu:0\"):    \n",
    "    pi= train(env_name, num_timesteps=num_timesteps, seed=seed)\n",
    "    \n",
    "runtime = time.time() - start_time\n"
   ]
  },
  {
   "cell_type": "code",
   "execution_count": null,
   "metadata": {},
   "outputs": [],
   "source": [
    "env = make_mujoco_env(env_name,seed=0)\n",
    "ob = env.reset()     \n",
    "\n",
    "while True:\n",
    "    action = pi.act(stochastic=False, ob=ob)[0]\n",
    "    ob, _, done, _ =  env.step(action)\n",
    "    #if reward == 1:\n",
    "    #    print(\"balanced\")\n",
    "    env.render()\n",
    "    if done:\n",
    "        ob = env.reset()\n",
    "        \n",
    "#U.save_state(\"./saved/5mil_flat\")"
   ]
  },
  {
   "cell_type": "code",
   "execution_count": 2,
   "metadata": {},
   "outputs": [
    {
     "name": "stdout",
     "output_type": "stream",
     "text": [
      "Logging to /var/folders/qq/gpxz4l6s1tndfdhysbz8bdym0000gn/T/openai-2018-11-30-21-04-59-541486\n",
      "\u001b[33mWARN: gym.spaces.Box autodetected dtype as <class 'numpy.float32'>. Please provide explicit dtype.\u001b[0m\n",
      "\u001b[33mWARN: gym.spaces.Box autodetected dtype as <class 'numpy.float32'>. Please provide explicit dtype.\u001b[0m\n",
      "********** Iteration 0 ************\n",
      "Optimizing...\n",
      "     pol_surr |    pol_entpen |       vf_loss |            kl |           ent\n",
      "     -0.00319 |       0.00000 |      27.68610 |       0.00022 |       1.41676\n",
      "     -0.01927 |       0.00000 |      24.87341 |       0.00524 |       1.41167\n",
      "     -0.02698 |       0.00000 |      18.06944 |       0.02235 |       1.40820\n",
      "     -0.02914 |       0.00000 |       8.80037 |       0.02502 |       1.40540\n",
      "     -0.03019 |       0.00000 |       6.11917 |       0.02486 |       1.40210\n",
      "     -0.03086 |       0.00000 |       5.65793 |       0.02732 |       1.39811\n",
      "     -0.03208 |       0.00000 |       5.43831 |       0.02497 |       1.39554\n",
      "     -0.03322 |       0.00000 |       5.27253 |       0.02757 |       1.39262\n",
      "     -0.03398 |       0.00000 |       5.28332 |       0.02958 |       1.38897\n",
      "     -0.03517 |       0.00000 |       5.17511 |       0.03099 |       1.38559\n",
      "Evaluating losses...\n",
      "     -0.03604 |       0.00000 |       5.17196 |       0.02953 |       1.38409\n",
      "---------------------------------\n",
      "| EpisodesSoFar   | 257         |\n",
      "| EpLenMean       | 7.98        |\n",
      "| EpRewMean       | 7.98        |\n",
      "| EpThisIter      | 257         |\n",
      "| ev_tdlam_before | -0.00944    |\n",
      "| loss_ent        | 1.3840877   |\n",
      "| loss_kl         | 0.029527778 |\n",
      "| loss_pol_entpen | 0.0         |\n",
      "| loss_pol_surr   | -0.03604002 |\n",
      "| loss_vf_loss    | 5.17196     |\n",
      "| TimeElapsed     | 3.39        |\n",
      "| TimestepsSoFar  | 2043        |\n",
      "---------------------------------\n",
      "load_state method is deprecated, please use load_variables instead\n",
      "INFO:tensorflow:Restoring parameters from /Users/sgillen/work_dir/ucsb/sgillen_research/cartpole/data/invertedpendulum_3layer/invertedpendulum_3layer\n"
     ]
    }
   ],
   "source": [
    "#def loaded_policy_fn(name, ob_space, ac_space):\n",
    "#    return mlp_policy.MlpPolicy(name=name, ob_space=ob_space, ac_space=ac_space, hid_size=64, num_hid_layers=2)\n",
    "\n",
    "#loader = tf.train.Saver()\n",
    "#session = loader.restore(tf.get_default_session(), 'saved/test.save')\n",
    "\n",
    "#env_name = \"Acrobot1\"\n",
    "\n",
    "save_name = 'invertedpendulum_3layer'\n",
    "\n",
    "logger.configure()\n",
    "\n",
    "pi = train(env_name, num_timesteps=1, seed=0)\n",
    "U.load_state(os.getcwd() + '/data/'+ save_name + '/' + save_name)\n",
    "#os.makedirs(os.path.dirname(\"./saved\"), exist_ok=True)\n",
    "#saver = tf.train.Saver()\n",
    "#saver.save(tf.get_default_session(), \"./saved/test.save\")\n",
    "    \n",
    "#env = make_mujoco_env('Walker2d-v2',seed=0)\n",
    "# env = gym.make(env_name)\n",
    "# ob = env.reset()     \n",
    "\n",
    "# while True:\n",
    "#     action = pi.act(stochastic=False, ob=ob)[0]\n",
    "#     ob, _, done, _ =  env.step(action)\n",
    "#     env.render()\n",
    "#     if done:\n",
    "#         ob = env.reset()"
   ]
  },
  {
   "cell_type": "code",
   "execution_count": 7,
   "metadata": {},
   "outputs": [
    {
     "data": {
      "text/plain": [
       "[<tf.Variable 'pi/obfilter/runningsum:0' shape=(4,) dtype=float64_ref>,\n",
       " <tf.Variable 'pi/obfilter/runningsumsq:0' shape=(4,) dtype=float64_ref>,\n",
       " <tf.Variable 'pi/obfilter/count:0' shape=() dtype=float64_ref>,\n",
       " <tf.Variable 'pi/vf/fc1/kernel:0' shape=(4, 64) dtype=float32_ref>,\n",
       " <tf.Variable 'pi/vf/fc1/bias:0' shape=(64,) dtype=float32_ref>,\n",
       " <tf.Variable 'pi/vf/fc2/kernel:0' shape=(64, 64) dtype=float32_ref>,\n",
       " <tf.Variable 'pi/vf/fc2/bias:0' shape=(64,) dtype=float32_ref>,\n",
       " <tf.Variable 'pi/vf/fc3/kernel:0' shape=(64, 64) dtype=float32_ref>,\n",
       " <tf.Variable 'pi/vf/fc3/bias:0' shape=(64,) dtype=float32_ref>,\n",
       " <tf.Variable 'pi/vf/fc4/kernel:0' shape=(64, 64) dtype=float32_ref>,\n",
       " <tf.Variable 'pi/vf/fc4/bias:0' shape=(64,) dtype=float32_ref>,\n",
       " <tf.Variable 'pi/vf/final/kernel:0' shape=(64, 1) dtype=float32_ref>,\n",
       " <tf.Variable 'pi/vf/final/bias:0' shape=(1,) dtype=float32_ref>,\n",
       " <tf.Variable 'pi/pol/fc1/kernel:0' shape=(4, 64) dtype=float32_ref>,\n",
       " <tf.Variable 'pi/pol/fc1/bias:0' shape=(64,) dtype=float32_ref>,\n",
       " <tf.Variable 'pi/pol/fc2/kernel:0' shape=(64, 64) dtype=float32_ref>,\n",
       " <tf.Variable 'pi/pol/fc2/bias:0' shape=(64,) dtype=float32_ref>,\n",
       " <tf.Variable 'pi/pol/fc3/kernel:0' shape=(64, 64) dtype=float32_ref>,\n",
       " <tf.Variable 'pi/pol/fc3/bias:0' shape=(64,) dtype=float32_ref>,\n",
       " <tf.Variable 'pi/pol/fc4/kernel:0' shape=(64, 64) dtype=float32_ref>,\n",
       " <tf.Variable 'pi/pol/fc4/bias:0' shape=(64,) dtype=float32_ref>,\n",
       " <tf.Variable 'pi/pol/final/kernel:0' shape=(64, 1) dtype=float32_ref>,\n",
       " <tf.Variable 'pi/pol/final/bias:0' shape=(1,) dtype=float32_ref>,\n",
       " <tf.Variable 'pi/pol/logstd:0' shape=(1, 1) dtype=float32_ref>]"
      ]
     },
     "execution_count": 7,
     "metadata": {},
     "output_type": "execute_result"
    }
   ],
   "source": [
    "pi.get_variables()"
   ]
  },
  {
   "cell_type": "code",
   "execution_count": null,
   "metadata": {},
   "outputs": [],
   "source": [
    "mlp_policy.MlpPolicy"
   ]
  },
  {
   "cell_type": "code",
   "execution_count": null,
   "metadata": {},
   "outputs": [],
   "source": []
  },
  {
   "cell_type": "code",
   "execution_count": 8,
   "metadata": {},
   "outputs": [],
   "source": [
    "all_weights = pi.get_variables()\n",
    "fc1 = all_weights[4]"
   ]
  },
  {
   "cell_type": "code",
   "execution_count": 9,
   "metadata": {},
   "outputs": [],
   "source": [
    "fc1_weights = fc1.value()"
   ]
  },
  {
   "cell_type": "code",
   "execution_count": 10,
   "metadata": {},
   "outputs": [
    {
     "data": {
      "text/plain": [
       "array([False, False, False, False, False, False, False, False, False,\n",
       "        True,  True, False,  True,  True,  True, False,  True,  True,\n",
       "        True, False,  True,  True, False, False,  True, False, False,\n",
       "       False, False,  True, False, False,  True, False,  True, False,\n",
       "        True, False,  True,  True, False,  True,  True,  True,  True,\n",
       "       False,  True, False, False,  True,  True, False, False, False,\n",
       "       False, False,  True, False,  True,  True,  True,  True,  True,\n",
       "        True])"
      ]
     },
     "execution_count": 10,
     "metadata": {},
     "output_type": "execute_result"
    }
   ],
   "source": [
    "fc1_weights.eval() > 0\n"
   ]
  },
  {
   "cell_type": "code",
   "execution_count": 14,
   "metadata": {},
   "outputs": [],
   "source": [
    "\n",
    "#input_data = np.mgrid[-10:10, -10:10, -10:10, -10:10]\n",
    "#output_data = np.zeros(input_data.shape[1:])\n",
    "\n",
    "\n",
    "#[ac, pred] = pi.act(0, np.array([-10 ,-10, 1, 1]))\n",
    "\n",
    "# This is bad and I don't care\n",
    "\n",
    "# for i in range(len(input_data[0,:,0,0,0])):\n",
    "#     for j in range(len(input_data[0,0,:,0,0])):\n",
    "#         for k in range(len(input_data[0,0,0,:,0])):\n",
    "#             for n in range(len(input_data[0,0,0,0,:])):\n",
    "#                 output_data[i,j,k,n], _  = pi.act(0, input_data[:,i,j,k,n])\n",
    "                \n",
    "                \n",
    "input_iter = itertools.combinations_with_replacement(range(-10,11),4)\n",
    "input_data = np.array([np.array(x) for x in input_iter])\n",
    "output_data = np.array([pi.act(0, x)[0] for x in input_data])\n",
    "# We'll probably have to sample from this later..."
   ]
  },
  {
   "cell_type": "code",
   "execution_count": 15,
   "metadata": {},
   "outputs": [],
   "source": [
    "from sklearn import datasets, linear_model\n",
    "from sklearn.metrics import mean_squared_error, r2_score\n",
    "regr = linear_model.LinearRegression()"
   ]
  },
  {
   "cell_type": "code",
   "execution_count": 16,
   "metadata": {},
   "outputs": [
    {
     "name": "stdout",
     "output_type": "stream",
     "text": [
      "coefs are [[-5.78685214e+11  6.03544469e+09  1.34757849e+08 -2.15459799e+12]]\n",
      "mean sqared error: 7.442514622606574e+25\n"
     ]
    }
   ],
   "source": [
    "regr.fit(input_data,output_data)\n",
    "lin_predict = regr.predict(input_data)\n",
    "\n",
    "print(\"coefs are\", regr.coef_)\n",
    "print(\"mean sqared error:\", mean_squared_error(lin_predict, output_data))"
   ]
  },
  {
   "cell_type": "code",
   "execution_count": 23,
   "metadata": {},
   "outputs": [
    {
     "data": {
      "text/plain": [
       "[<matplotlib.lines.Line2D at 0x1c327bae48>]"
      ]
     },
     "execution_count": 23,
     "metadata": {},
     "output_type": "execute_result"
    },
    {
     "data": {
      "image/png": "[encoded data removed]",
      "text/plain": [
       "<matplotlib.figure.Figure at 0x1c32735358>"
      ]
     },
     "metadata": {},
     "output_type": "display_data"
    },
    {
     "data": {
      "image/png": "[encoded data removed]",
      "text/plain": [
       "<matplotlib.figure.Figure at 0x1c32735748>"
      ]
     },
     "metadata": {},
     "output_type": "display_data"
    }
   ],
   "source": [
    "plt.plot(output_data)\n",
    "plt.figure()\n",
    "plt.plot(lin_predict)"
   ]
  },
  {
   "cell_type": "code",
   "execution_count": null,
   "metadata": {},
   "outputs": [],
   "source": []
  }
 ],
 "metadata": {
  "kernelspec": {
   "display_name": "Python [conda env:anaconda3]",
   "language": "python",
   "name": "conda-env-anaconda3-py"
  },
  "language_info": {
   "codemirror_mode": {
    "name": "ipython",
    "version": 3
   },
   "file_extension": ".py",
   "mimetype": "text/x-python",
   "name": "python",
   "nbconvert_exporter": "python",
   "pygments_lexer": "ipython3",
   "version": "3.6.3"
  }
 },
 "nbformat": 4,
 "nbformat_minor": 2
}
